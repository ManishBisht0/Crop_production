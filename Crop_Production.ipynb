{
 "cells": [
  {
   "cell_type": "markdown",
   "id": "f2a0c303",
   "metadata": {},
   "source": [
    "# Crop Production"
   ]
  },
  {
   "cell_type": "markdown",
   "id": "2bd0d3e3",
   "metadata": {},
   "source": [
    "# Aim"
   ]
  },
  {
   "cell_type": "markdown",
   "id": "def08a55",
   "metadata": {},
   "source": [
    "The main goal of Exploratory Data Analysis is to identify errors in data sets. Give a better understanding about the relationship between various attributes in the dataset. Thus, we will be able to schedule all the other processes accordingly."
   ]
  },
  {
   "cell_type": "markdown",
   "id": "c6aaa257",
   "metadata": {},
   "source": [
    "# Data Explanation"
   ]
  },
  {
   "cell_type": "markdown",
   "id": "88410781",
   "metadata": {},
   "source": [
    "State_Name : Name of the respective states in India. \n",
    "\n",
    "District_Name : Name of the respective Districts in India. \n",
    "\n",
    "Crop_Year : Data is recorded in between the year of 2000 - 2014. \n",
    "\n",
    "Season : This include all the season that is present in various part of the India.\n",
    "\n",
    "Crops : The variety of Crops that are grown in different part of India during different seasons.\n",
    "\n",
    "Area : Area at which a particular crop is grown during a particular time of the year and the unit is in hectare.\n",
    "\n",
    "Production : Production is total harvest measured in tons per hectare"
   ]
  },
  {
   "cell_type": "markdown",
   "id": "534a88bd",
   "metadata": {},
   "source": [
    "# Seasons and Duration"
   ]
  },
  {
   "cell_type": "markdown",
   "id": "b6b94bff",
   "metadata": {},
   "source": [
    "Kharif : Kharif crops are sown early-May – usually at the beginning of the first monsoon rains.\n",
    "    \n",
    "Rabi : Rabi crops are sown around mid-November – preferably after the monsoon rains.\n",
    "    \n",
    "Whole Year : Throughout the Year.\n",
    "    \n",
    "Summer : April to June\n",
    "    \n",
    "Winter : December to January\n",
    "    \n",
    "Autumn : September and October"
   ]
  },
  {
   "cell_type": "code",
   "execution_count": 1,
   "id": "f065aa49",
   "metadata": {},
   "outputs": [],
   "source": [
    "\n",
    "import pandas as pd \n",
    "import numpy as np \n",
    "import seaborn as sns\n",
    "import matplotlib.pyplot as plt\n"
   ]
  },
  {
   "cell_type": "code",
   "execution_count": 2,
   "id": "79d41123",
   "metadata": {},
   "outputs": [],
   "source": [
    "df=pd.read_csv(r'A:\\crop\\crop_production.csv')"
   ]
  },
  {
   "cell_type": "code",
   "execution_count": 3,
   "id": "4f2e3043",
   "metadata": {},
   "outputs": [
    {
     "data": {
      "text/html": [
       "<style type=\"text/css\">\n",
       "#T_a0155_row0_col2, #T_a0155_row0_col6, #T_a0155_row1_col2, #T_a0155_row1_col5, #T_a0155_row1_col6, #T_a0155_row2_col2, #T_a0155_row2_col6, #T_a0155_row3_col2, #T_a0155_row3_col6, #T_a0155_row4_col2, #T_a0155_row4_col6, #T_a0155_row5_col2, #T_a0155_row6_col2, #T_a0155_row6_col5, #T_a0155_row6_col6, #T_a0155_row7_col2, #T_a0155_row7_col5, #T_a0155_row7_col6, #T_a0155_row8_col2, #T_a0155_row8_col5, #T_a0155_row8_col6, #T_a0155_row9_col2, #T_a0155_row9_col5, #T_a0155_row9_col6, #T_a0155_row10_col6, #T_a0155_row11_col5, #T_a0155_row11_col6, #T_a0155_row12_col6, #T_a0155_row13_col6, #T_a0155_row15_col5, #T_a0155_row15_col6, #T_a0155_row16_col5, #T_a0155_row16_col6, #T_a0155_row17_col5, #T_a0155_row17_col6, #T_a0155_row18_col6, #T_a0155_row19_col6 {\n",
       "  background-color: #8000ff;\n",
       "  color: #f1f1f1;\n",
       "}\n",
       "#T_a0155_row0_col5, #T_a0155_row10_col5, #T_a0155_row19_col5 {\n",
       "  background-color: #5e35fe;\n",
       "  color: #f1f1f1;\n",
       "}\n",
       "#T_a0155_row2_col5, #T_a0155_row12_col5 {\n",
       "  background-color: #7e03ff;\n",
       "  color: #f1f1f1;\n",
       "}\n",
       "#T_a0155_row3_col5, #T_a0155_row18_col5 {\n",
       "  background-color: #7c06ff;\n",
       "  color: #f1f1f1;\n",
       "}\n",
       "#T_a0155_row4_col5, #T_a0155_row13_col5 {\n",
       "  background-color: #6c1fff;\n",
       "  color: #f1f1f1;\n",
       "}\n",
       "#T_a0155_row5_col5, #T_a0155_row5_col6, #T_a0155_row14_col5, #T_a0155_row18_col2, #T_a0155_row19_col2 {\n",
       "  background-color: #ff0000;\n",
       "  color: #f1f1f1;\n",
       "}\n",
       "#T_a0155_row10_col2, #T_a0155_row11_col2, #T_a0155_row12_col2, #T_a0155_row13_col2, #T_a0155_row14_col2, #T_a0155_row15_col2, #T_a0155_row16_col2, #T_a0155_row17_col2 {\n",
       "  background-color: #80ffb4;\n",
       "  color: #000000;\n",
       "}\n",
       "#T_a0155_row14_col6 {\n",
       "  background-color: #ff0603;\n",
       "  color: #f1f1f1;\n",
       "}\n",
       "</style>\n",
       "<table id=\"T_a0155_\">\n",
       "  <thead>\n",
       "    <tr>\n",
       "      <th class=\"col_heading level0 col0\" >State_Name</th>\n",
       "      <th class=\"col_heading level0 col1\" >District_Name</th>\n",
       "      <th class=\"col_heading level0 col2\" >Crop_Year</th>\n",
       "      <th class=\"col_heading level0 col3\" >Season</th>\n",
       "      <th class=\"col_heading level0 col4\" >Crop</th>\n",
       "      <th class=\"col_heading level0 col5\" >Area</th>\n",
       "      <th class=\"col_heading level0 col6\" >Production</th>\n",
       "    </tr>\n",
       "  </thead>\n",
       "  <tbody>\n",
       "    <tr>\n",
       "      <td id=\"T_a0155_row0_col0\" class=\"data row0 col0\" >Andaman and Nicobar Islands</td>\n",
       "      <td id=\"T_a0155_row0_col1\" class=\"data row0 col1\" >NICOBARS</td>\n",
       "      <td id=\"T_a0155_row0_col2\" class=\"data row0 col2\" >2000</td>\n",
       "      <td id=\"T_a0155_row0_col3\" class=\"data row0 col3\" >Kharif     </td>\n",
       "      <td id=\"T_a0155_row0_col4\" class=\"data row0 col4\" >Arecanut</td>\n",
       "      <td id=\"T_a0155_row0_col5\" class=\"data row0 col5\" >1254.000000</td>\n",
       "      <td id=\"T_a0155_row0_col6\" class=\"data row0 col6\" >2000.000000</td>\n",
       "    </tr>\n",
       "    <tr>\n",
       "      <td id=\"T_a0155_row1_col0\" class=\"data row1 col0\" >Andaman and Nicobar Islands</td>\n",
       "      <td id=\"T_a0155_row1_col1\" class=\"data row1 col1\" >NICOBARS</td>\n",
       "      <td id=\"T_a0155_row1_col2\" class=\"data row1 col2\" >2000</td>\n",
       "      <td id=\"T_a0155_row1_col3\" class=\"data row1 col3\" >Kharif     </td>\n",
       "      <td id=\"T_a0155_row1_col4\" class=\"data row1 col4\" >Other Kharif pulses</td>\n",
       "      <td id=\"T_a0155_row1_col5\" class=\"data row1 col5\" >2.000000</td>\n",
       "      <td id=\"T_a0155_row1_col6\" class=\"data row1 col6\" >1.000000</td>\n",
       "    </tr>\n",
       "    <tr>\n",
       "      <td id=\"T_a0155_row2_col0\" class=\"data row2 col0\" >Andaman and Nicobar Islands</td>\n",
       "      <td id=\"T_a0155_row2_col1\" class=\"data row2 col1\" >NICOBARS</td>\n",
       "      <td id=\"T_a0155_row2_col2\" class=\"data row2 col2\" >2000</td>\n",
       "      <td id=\"T_a0155_row2_col3\" class=\"data row2 col3\" >Kharif     </td>\n",
       "      <td id=\"T_a0155_row2_col4\" class=\"data row2 col4\" >Rice</td>\n",
       "      <td id=\"T_a0155_row2_col5\" class=\"data row2 col5\" >102.000000</td>\n",
       "      <td id=\"T_a0155_row2_col6\" class=\"data row2 col6\" >321.000000</td>\n",
       "    </tr>\n",
       "    <tr>\n",
       "      <td id=\"T_a0155_row3_col0\" class=\"data row3 col0\" >Andaman and Nicobar Islands</td>\n",
       "      <td id=\"T_a0155_row3_col1\" class=\"data row3 col1\" >NICOBARS</td>\n",
       "      <td id=\"T_a0155_row3_col2\" class=\"data row3 col2\" >2000</td>\n",
       "      <td id=\"T_a0155_row3_col3\" class=\"data row3 col3\" >Whole Year </td>\n",
       "      <td id=\"T_a0155_row3_col4\" class=\"data row3 col4\" >Banana</td>\n",
       "      <td id=\"T_a0155_row3_col5\" class=\"data row3 col5\" >176.000000</td>\n",
       "      <td id=\"T_a0155_row3_col6\" class=\"data row3 col6\" >641.000000</td>\n",
       "    </tr>\n",
       "    <tr>\n",
       "      <td id=\"T_a0155_row4_col0\" class=\"data row4 col0\" >Andaman and Nicobar Islands</td>\n",
       "      <td id=\"T_a0155_row4_col1\" class=\"data row4 col1\" >NICOBARS</td>\n",
       "      <td id=\"T_a0155_row4_col2\" class=\"data row4 col2\" >2000</td>\n",
       "      <td id=\"T_a0155_row4_col3\" class=\"data row4 col3\" >Whole Year </td>\n",
       "      <td id=\"T_a0155_row4_col4\" class=\"data row4 col4\" >Cashewnut</td>\n",
       "      <td id=\"T_a0155_row4_col5\" class=\"data row4 col5\" >720.000000</td>\n",
       "      <td id=\"T_a0155_row4_col6\" class=\"data row4 col6\" >165.000000</td>\n",
       "    </tr>\n",
       "    <tr>\n",
       "      <td id=\"T_a0155_row5_col0\" class=\"data row5 col0\" >Andaman and Nicobar Islands</td>\n",
       "      <td id=\"T_a0155_row5_col1\" class=\"data row5 col1\" >NICOBARS</td>\n",
       "      <td id=\"T_a0155_row5_col2\" class=\"data row5 col2\" >2000</td>\n",
       "      <td id=\"T_a0155_row5_col3\" class=\"data row5 col3\" >Whole Year </td>\n",
       "      <td id=\"T_a0155_row5_col4\" class=\"data row5 col4\" >Coconut </td>\n",
       "      <td id=\"T_a0155_row5_col5\" class=\"data row5 col5\" >18168.000000</td>\n",
       "      <td id=\"T_a0155_row5_col6\" class=\"data row5 col6\" >65100000.000000</td>\n",
       "    </tr>\n",
       "    <tr>\n",
       "      <td id=\"T_a0155_row6_col0\" class=\"data row6 col0\" >Andaman and Nicobar Islands</td>\n",
       "      <td id=\"T_a0155_row6_col1\" class=\"data row6 col1\" >NICOBARS</td>\n",
       "      <td id=\"T_a0155_row6_col2\" class=\"data row6 col2\" >2000</td>\n",
       "      <td id=\"T_a0155_row6_col3\" class=\"data row6 col3\" >Whole Year </td>\n",
       "      <td id=\"T_a0155_row6_col4\" class=\"data row6 col4\" >Dry ginger</td>\n",
       "      <td id=\"T_a0155_row6_col5\" class=\"data row6 col5\" >36.000000</td>\n",
       "      <td id=\"T_a0155_row6_col6\" class=\"data row6 col6\" >100.000000</td>\n",
       "    </tr>\n",
       "    <tr>\n",
       "      <td id=\"T_a0155_row7_col0\" class=\"data row7 col0\" >Andaman and Nicobar Islands</td>\n",
       "      <td id=\"T_a0155_row7_col1\" class=\"data row7 col1\" >NICOBARS</td>\n",
       "      <td id=\"T_a0155_row7_col2\" class=\"data row7 col2\" >2000</td>\n",
       "      <td id=\"T_a0155_row7_col3\" class=\"data row7 col3\" >Whole Year </td>\n",
       "      <td id=\"T_a0155_row7_col4\" class=\"data row7 col4\" >Sugarcane</td>\n",
       "      <td id=\"T_a0155_row7_col5\" class=\"data row7 col5\" >1.000000</td>\n",
       "      <td id=\"T_a0155_row7_col6\" class=\"data row7 col6\" >2.000000</td>\n",
       "    </tr>\n",
       "    <tr>\n",
       "      <td id=\"T_a0155_row8_col0\" class=\"data row8 col0\" >Andaman and Nicobar Islands</td>\n",
       "      <td id=\"T_a0155_row8_col1\" class=\"data row8 col1\" >NICOBARS</td>\n",
       "      <td id=\"T_a0155_row8_col2\" class=\"data row8 col2\" >2000</td>\n",
       "      <td id=\"T_a0155_row8_col3\" class=\"data row8 col3\" >Whole Year </td>\n",
       "      <td id=\"T_a0155_row8_col4\" class=\"data row8 col4\" >Sweet potato</td>\n",
       "      <td id=\"T_a0155_row8_col5\" class=\"data row8 col5\" >5.000000</td>\n",
       "      <td id=\"T_a0155_row8_col6\" class=\"data row8 col6\" >15.000000</td>\n",
       "    </tr>\n",
       "    <tr>\n",
       "      <td id=\"T_a0155_row9_col0\" class=\"data row9 col0\" >Andaman and Nicobar Islands</td>\n",
       "      <td id=\"T_a0155_row9_col1\" class=\"data row9 col1\" >NICOBARS</td>\n",
       "      <td id=\"T_a0155_row9_col2\" class=\"data row9 col2\" >2000</td>\n",
       "      <td id=\"T_a0155_row9_col3\" class=\"data row9 col3\" >Whole Year </td>\n",
       "      <td id=\"T_a0155_row9_col4\" class=\"data row9 col4\" >Tapioca</td>\n",
       "      <td id=\"T_a0155_row9_col5\" class=\"data row9 col5\" >40.000000</td>\n",
       "      <td id=\"T_a0155_row9_col6\" class=\"data row9 col6\" >169.000000</td>\n",
       "    </tr>\n",
       "    <tr>\n",
       "      <td id=\"T_a0155_row10_col0\" class=\"data row10 col0\" >Andaman and Nicobar Islands</td>\n",
       "      <td id=\"T_a0155_row10_col1\" class=\"data row10 col1\" >NICOBARS</td>\n",
       "      <td id=\"T_a0155_row10_col2\" class=\"data row10 col2\" >2001</td>\n",
       "      <td id=\"T_a0155_row10_col3\" class=\"data row10 col3\" >Kharif     </td>\n",
       "      <td id=\"T_a0155_row10_col4\" class=\"data row10 col4\" >Arecanut</td>\n",
       "      <td id=\"T_a0155_row10_col5\" class=\"data row10 col5\" >1254.000000</td>\n",
       "      <td id=\"T_a0155_row10_col6\" class=\"data row10 col6\" >2061.000000</td>\n",
       "    </tr>\n",
       "    <tr>\n",
       "      <td id=\"T_a0155_row11_col0\" class=\"data row11 col0\" >Andaman and Nicobar Islands</td>\n",
       "      <td id=\"T_a0155_row11_col1\" class=\"data row11 col1\" >NICOBARS</td>\n",
       "      <td id=\"T_a0155_row11_col2\" class=\"data row11 col2\" >2001</td>\n",
       "      <td id=\"T_a0155_row11_col3\" class=\"data row11 col3\" >Kharif     </td>\n",
       "      <td id=\"T_a0155_row11_col4\" class=\"data row11 col4\" >Other Kharif pulses</td>\n",
       "      <td id=\"T_a0155_row11_col5\" class=\"data row11 col5\" >2.000000</td>\n",
       "      <td id=\"T_a0155_row11_col6\" class=\"data row11 col6\" >1.000000</td>\n",
       "    </tr>\n",
       "    <tr>\n",
       "      <td id=\"T_a0155_row12_col0\" class=\"data row12 col0\" >Andaman and Nicobar Islands</td>\n",
       "      <td id=\"T_a0155_row12_col1\" class=\"data row12 col1\" >NICOBARS</td>\n",
       "      <td id=\"T_a0155_row12_col2\" class=\"data row12 col2\" >2001</td>\n",
       "      <td id=\"T_a0155_row12_col3\" class=\"data row12 col3\" >Kharif     </td>\n",
       "      <td id=\"T_a0155_row12_col4\" class=\"data row12 col4\" >Rice</td>\n",
       "      <td id=\"T_a0155_row12_col5\" class=\"data row12 col5\" >83.000000</td>\n",
       "      <td id=\"T_a0155_row12_col6\" class=\"data row12 col6\" >300.000000</td>\n",
       "    </tr>\n",
       "    <tr>\n",
       "      <td id=\"T_a0155_row13_col0\" class=\"data row13 col0\" >Andaman and Nicobar Islands</td>\n",
       "      <td id=\"T_a0155_row13_col1\" class=\"data row13 col1\" >NICOBARS</td>\n",
       "      <td id=\"T_a0155_row13_col2\" class=\"data row13 col2\" >2001</td>\n",
       "      <td id=\"T_a0155_row13_col3\" class=\"data row13 col3\" >Whole Year </td>\n",
       "      <td id=\"T_a0155_row13_col4\" class=\"data row13 col4\" >Cashewnut</td>\n",
       "      <td id=\"T_a0155_row13_col5\" class=\"data row13 col5\" >719.000000</td>\n",
       "      <td id=\"T_a0155_row13_col6\" class=\"data row13 col6\" >192.000000</td>\n",
       "    </tr>\n",
       "    <tr>\n",
       "      <td id=\"T_a0155_row14_col0\" class=\"data row14 col0\" >Andaman and Nicobar Islands</td>\n",
       "      <td id=\"T_a0155_row14_col1\" class=\"data row14 col1\" >NICOBARS</td>\n",
       "      <td id=\"T_a0155_row14_col2\" class=\"data row14 col2\" >2001</td>\n",
       "      <td id=\"T_a0155_row14_col3\" class=\"data row14 col3\" >Whole Year </td>\n",
       "      <td id=\"T_a0155_row14_col4\" class=\"data row14 col4\" >Coconut </td>\n",
       "      <td id=\"T_a0155_row14_col5\" class=\"data row14 col5\" >18190.000000</td>\n",
       "      <td id=\"T_a0155_row14_col6\" class=\"data row14 col6\" >64430000.000000</td>\n",
       "    </tr>\n",
       "    <tr>\n",
       "      <td id=\"T_a0155_row15_col0\" class=\"data row15 col0\" >Andaman and Nicobar Islands</td>\n",
       "      <td id=\"T_a0155_row15_col1\" class=\"data row15 col1\" >NICOBARS</td>\n",
       "      <td id=\"T_a0155_row15_col2\" class=\"data row15 col2\" >2001</td>\n",
       "      <td id=\"T_a0155_row15_col3\" class=\"data row15 col3\" >Whole Year </td>\n",
       "      <td id=\"T_a0155_row15_col4\" class=\"data row15 col4\" >Dry ginger</td>\n",
       "      <td id=\"T_a0155_row15_col5\" class=\"data row15 col5\" >46.000000</td>\n",
       "      <td id=\"T_a0155_row15_col6\" class=\"data row15 col6\" >100.000000</td>\n",
       "    </tr>\n",
       "    <tr>\n",
       "      <td id=\"T_a0155_row16_col0\" class=\"data row16 col0\" >Andaman and Nicobar Islands</td>\n",
       "      <td id=\"T_a0155_row16_col1\" class=\"data row16 col1\" >NICOBARS</td>\n",
       "      <td id=\"T_a0155_row16_col2\" class=\"data row16 col2\" >2001</td>\n",
       "      <td id=\"T_a0155_row16_col3\" class=\"data row16 col3\" >Whole Year </td>\n",
       "      <td id=\"T_a0155_row16_col4\" class=\"data row16 col4\" >Sugarcane</td>\n",
       "      <td id=\"T_a0155_row16_col5\" class=\"data row16 col5\" >1.000000</td>\n",
       "      <td id=\"T_a0155_row16_col6\" class=\"data row16 col6\" >1.000000</td>\n",
       "    </tr>\n",
       "    <tr>\n",
       "      <td id=\"T_a0155_row17_col0\" class=\"data row17 col0\" >Andaman and Nicobar Islands</td>\n",
       "      <td id=\"T_a0155_row17_col1\" class=\"data row17 col1\" >NICOBARS</td>\n",
       "      <td id=\"T_a0155_row17_col2\" class=\"data row17 col2\" >2001</td>\n",
       "      <td id=\"T_a0155_row17_col3\" class=\"data row17 col3\" >Whole Year </td>\n",
       "      <td id=\"T_a0155_row17_col4\" class=\"data row17 col4\" >Sweet potato</td>\n",
       "      <td id=\"T_a0155_row17_col5\" class=\"data row17 col5\" >11.000000</td>\n",
       "      <td id=\"T_a0155_row17_col6\" class=\"data row17 col6\" >33.000000</td>\n",
       "    </tr>\n",
       "    <tr>\n",
       "      <td id=\"T_a0155_row18_col0\" class=\"data row18 col0\" >Andaman and Nicobar Islands</td>\n",
       "      <td id=\"T_a0155_row18_col1\" class=\"data row18 col1\" >NICOBARS</td>\n",
       "      <td id=\"T_a0155_row18_col2\" class=\"data row18 col2\" >2002</td>\n",
       "      <td id=\"T_a0155_row18_col3\" class=\"data row18 col3\" >Kharif     </td>\n",
       "      <td id=\"T_a0155_row18_col4\" class=\"data row18 col4\" >Rice</td>\n",
       "      <td id=\"T_a0155_row18_col5\" class=\"data row18 col5\" >189.200000</td>\n",
       "      <td id=\"T_a0155_row18_col6\" class=\"data row18 col6\" >510.840000</td>\n",
       "    </tr>\n",
       "    <tr>\n",
       "      <td id=\"T_a0155_row19_col0\" class=\"data row19 col0\" >Andaman and Nicobar Islands</td>\n",
       "      <td id=\"T_a0155_row19_col1\" class=\"data row19 col1\" >NICOBARS</td>\n",
       "      <td id=\"T_a0155_row19_col2\" class=\"data row19 col2\" >2002</td>\n",
       "      <td id=\"T_a0155_row19_col3\" class=\"data row19 col3\" >Whole Year </td>\n",
       "      <td id=\"T_a0155_row19_col4\" class=\"data row19 col4\" >Arecanut</td>\n",
       "      <td id=\"T_a0155_row19_col5\" class=\"data row19 col5\" >1258.000000</td>\n",
       "      <td id=\"T_a0155_row19_col6\" class=\"data row19 col6\" >2083.000000</td>\n",
       "    </tr>\n",
       "  </tbody>\n",
       "</table>\n"
      ],
      "text/plain": [
       "<pandas.io.formats.style.Styler at 0x22bed0fbf40>"
      ]
     },
     "execution_count": 3,
     "metadata": {},
     "output_type": "execute_result"
    }
   ],
   "source": [
    "df.head(20).style.background_gradient(cmap='rainbow').hide_index()"
   ]
  },
  {
   "cell_type": "code",
   "execution_count": 4,
   "id": "3d71e7c2",
   "metadata": {},
   "outputs": [
    {
     "data": {
      "text/plain": [
       "(246091, 7)"
      ]
     },
     "execution_count": 4,
     "metadata": {},
     "output_type": "execute_result"
    }
   ],
   "source": [
    "df.shape"
   ]
  },
  {
   "cell_type": "code",
   "execution_count": 5,
   "id": "2646d39d",
   "metadata": {},
   "outputs": [
    {
     "name": "stdout",
     "output_type": "stream",
     "text": [
      "<class 'pandas.core.frame.DataFrame'>\n",
      "RangeIndex: 246091 entries, 0 to 246090\n",
      "Data columns (total 7 columns):\n",
      " #   Column         Non-Null Count   Dtype  \n",
      "---  ------         --------------   -----  \n",
      " 0   State_Name     246091 non-null  object \n",
      " 1   District_Name  246091 non-null  object \n",
      " 2   Crop_Year      246091 non-null  int64  \n",
      " 3   Season         246091 non-null  object \n",
      " 4   Crop           246091 non-null  object \n",
      " 5   Area           246091 non-null  float64\n",
      " 6   Production     242361 non-null  float64\n",
      "dtypes: float64(2), int64(1), object(4)\n",
      "memory usage: 13.1+ MB\n"
     ]
    }
   ],
   "source": [
    "df.info()"
   ]
  },
  {
   "cell_type": "code",
   "execution_count": 6,
   "id": "00883be1",
   "metadata": {},
   "outputs": [
    {
     "data": {
      "text/plain": [
       "State_Name          0\n",
       "District_Name       0\n",
       "Crop_Year           0\n",
       "Season              0\n",
       "Crop                0\n",
       "Area                0\n",
       "Production       3730\n",
       "dtype: int64"
      ]
     },
     "execution_count": 6,
     "metadata": {},
     "output_type": "execute_result"
    }
   ],
   "source": [
    "df.isnull().sum()"
   ]
  },
  {
   "cell_type": "code",
   "execution_count": 7,
   "id": "76294c00",
   "metadata": {},
   "outputs": [
    {
     "data": {
      "text/plain": [
       "0.015156994770227274"
      ]
     },
     "execution_count": 7,
     "metadata": {},
     "output_type": "execute_result"
    }
   ],
   "source": [
    "#if we will check percentage of missing data set \n",
    "3730/246091"
   ]
  },
  {
   "cell_type": "markdown",
   "id": "f9265b8e",
   "metadata": {},
   "source": [
    "its means only 1% of the data is so we can drop the missing values "
   ]
  },
  {
   "cell_type": "code",
   "execution_count": 8,
   "id": "aac4de60",
   "metadata": {},
   "outputs": [],
   "source": [
    "df.dropna(inplace=True)\n",
    "#df.dropna(subset=[\"Production\"],axis=0,inplace=True)"
   ]
  },
  {
   "cell_type": "code",
   "execution_count": 9,
   "id": "407c6e0a",
   "metadata": {},
   "outputs": [
    {
     "data": {
      "text/plain": [
       "Index(['State_Name', 'District_Name', 'Crop_Year', 'Season', 'Crop', 'Area',\n",
       "       'Production'],\n",
       "      dtype='object')"
      ]
     },
     "execution_count": 9,
     "metadata": {},
     "output_type": "execute_result"
    }
   ],
   "source": [
    "df.columns"
   ]
  },
  {
   "cell_type": "code",
   "execution_count": 10,
   "id": "c5cc668b",
   "metadata": {},
   "outputs": [
    {
     "data": {
      "text/plain": [
       "State_Name        object\n",
       "District_Name     object\n",
       "Crop_Year          int64\n",
       "Season            object\n",
       "Crop              object\n",
       "Area             float64\n",
       "Production       float64\n",
       "dtype: object"
      ]
     },
     "execution_count": 10,
     "metadata": {},
     "output_type": "execute_result"
    }
   ],
   "source": [
    "df.dtypes"
   ]
  },
  {
   "cell_type": "markdown",
   "id": "0d64899b",
   "metadata": {},
   "source": [
    "checking is there any correaltionship between the columns "
   ]
  },
  {
   "cell_type": "code",
   "execution_count": 11,
   "id": "b42084af",
   "metadata": {},
   "outputs": [
    {
     "data": {
      "text/plain": [
       "<AxesSubplot:>"
      ]
     },
     "execution_count": 11,
     "metadata": {},
     "output_type": "execute_result"
    },
    {
     "data": {
      "image/png": "[encoded data removed]",
      "text/plain": [
       "<Figure size 432x288 with 2 Axes>"
      ]
     },
     "metadata": {
      "needs_background": "light"
     },
     "output_type": "display_data"
    }
   ],
   "source": [
    "plt.tick_params(labelsize=10)\n",
    "sns.heatmap(df.corr(),annot=True)"
   ]
  },
  {
   "cell_type": "code",
   "execution_count": 12,
   "id": "a1d0d63a",
   "metadata": {},
   "outputs": [
    {
     "data": {
      "text/plain": [
       "Uttar Pradesh                  33189\n",
       "Madhya Pradesh                 22604\n",
       "Karnataka                      21079\n",
       "Bihar                          18874\n",
       "Assam                          14622\n",
       "Odisha                         13524\n",
       "Tamil Nadu                     13266\n",
       "Maharashtra                    12496\n",
       "Rajasthan                      12066\n",
       "Chhattisgarh                   10368\n",
       "West Bengal                     9597\n",
       "Andhra Pradesh                  9561\n",
       "Gujarat                         8365\n",
       "Telangana                       5591\n",
       "Uttarakhand                     4825\n",
       "Haryana                         4540\n",
       "Kerala                          4003\n",
       "Nagaland                        3904\n",
       "Punjab                          3143\n",
       "Meghalaya                       2867\n",
       "Arunachal Pradesh               2545\n",
       "Himachal Pradesh                2456\n",
       "Jammu and Kashmir               1632\n",
       "Tripura                         1412\n",
       "Manipur                         1266\n",
       "Jharkhand                       1266\n",
       "Mizoram                          954\n",
       "Puducherry                       872\n",
       "Sikkim                           714\n",
       "Dadra and Nagar Haveli           263\n",
       "Goa                              207\n",
       "Andaman and Nicobar Islands      201\n",
       "Chandigarh                        89\n",
       "Name: State_Name, dtype: int64"
      ]
     },
     "execution_count": 12,
     "metadata": {},
     "output_type": "execute_result"
    }
   ],
   "source": [
    "df.State_Name.value_counts()"
   ]
  },
  {
   "cell_type": "code",
   "execution_count": 13,
   "id": "61e79995",
   "metadata": {},
   "outputs": [
    {
     "name": "stderr",
     "output_type": "stream",
     "text": [
      "C:\\Users\\Manis\\AppData\\Local\\Temp/ipykernel_14352/404001368.py:1: FutureWarning: Indexing with multiple keys (implicitly converted to a tuple of keys) will be deprecated, use a list instead.\n",
      "  Prod_N= df.groupby(by = 'State_Name')['Production','State_Name'].sum().reset_index().sort_values(by = 'Production', ascending = False)\n"
     ]
    },
    {
     "data": {
      "text/html": [
       "<div>\n",
       "<style scoped>\n",
       "    .dataframe tbody tr th:only-of-type {\n",
       "        vertical-align: middle;\n",
       "    }\n",
       "\n",
       "    .dataframe tbody tr th {\n",
       "        vertical-align: top;\n",
       "    }\n",
       "\n",
       "    .dataframe thead th {\n",
       "        text-align: right;\n",
       "    }\n",
       "</style>\n",
       "<table border=\"1\" class=\"dataframe\">\n",
       "  <thead>\n",
       "    <tr style=\"text-align: right;\">\n",
       "      <th></th>\n",
       "      <th>State_Name</th>\n",
       "      <th>Production</th>\n",
       "    </tr>\n",
       "  </thead>\n",
       "  <tbody>\n",
       "    <tr>\n",
       "      <th>15</th>\n",
       "      <td>Kerala</td>\n",
       "      <td>9.788005e+10</td>\n",
       "    </tr>\n",
       "    <tr>\n",
       "      <th>1</th>\n",
       "      <td>Andhra Pradesh</td>\n",
       "      <td>1.732459e+10</td>\n",
       "    </tr>\n",
       "    <tr>\n",
       "      <th>27</th>\n",
       "      <td>Tamil Nadu</td>\n",
       "      <td>1.207644e+10</td>\n",
       "    </tr>\n",
       "    <tr>\n",
       "      <th>30</th>\n",
       "      <td>Uttar Pradesh</td>\n",
       "      <td>3.234493e+09</td>\n",
       "    </tr>\n",
       "    <tr>\n",
       "      <th>3</th>\n",
       "      <td>Assam</td>\n",
       "      <td>2.111752e+09</td>\n",
       "    </tr>\n",
       "    <tr>\n",
       "      <th>32</th>\n",
       "      <td>West Bengal</td>\n",
       "      <td>1.397904e+09</td>\n",
       "    </tr>\n",
       "    <tr>\n",
       "      <th>17</th>\n",
       "      <td>Maharashtra</td>\n",
       "      <td>1.263641e+09</td>\n",
       "    </tr>\n",
       "    <tr>\n",
       "      <th>14</th>\n",
       "      <td>Karnataka</td>\n",
       "      <td>8.634298e+08</td>\n",
       "    </tr>\n",
       "    <tr>\n",
       "      <th>0</th>\n",
       "      <td>Andaman and Nicobar Islands</td>\n",
       "      <td>7.182232e+08</td>\n",
       "    </tr>\n",
       "    <tr>\n",
       "      <th>24</th>\n",
       "      <td>Punjab</td>\n",
       "      <td>5.863850e+08</td>\n",
       "    </tr>\n",
       "    <tr>\n",
       "      <th>9</th>\n",
       "      <td>Gujarat</td>\n",
       "      <td>5.242913e+08</td>\n",
       "    </tr>\n",
       "    <tr>\n",
       "      <th>8</th>\n",
       "      <td>Goa</td>\n",
       "      <td>5.057558e+08</td>\n",
       "    </tr>\n",
       "    <tr>\n",
       "      <th>16</th>\n",
       "      <td>Madhya Pradesh</td>\n",
       "      <td>4.488407e+08</td>\n",
       "    </tr>\n",
       "    <tr>\n",
       "      <th>23</th>\n",
       "      <td>Puducherry</td>\n",
       "      <td>3.847245e+08</td>\n",
       "    </tr>\n",
       "    <tr>\n",
       "      <th>10</th>\n",
       "      <td>Haryana</td>\n",
       "      <td>3.812739e+08</td>\n",
       "    </tr>\n",
       "    <tr>\n",
       "      <th>4</th>\n",
       "      <td>Bihar</td>\n",
       "      <td>3.664836e+08</td>\n",
       "    </tr>\n",
       "    <tr>\n",
       "      <th>28</th>\n",
       "      <td>Telangana</td>\n",
       "      <td>3.351479e+08</td>\n",
       "    </tr>\n",
       "    <tr>\n",
       "      <th>25</th>\n",
       "      <td>Rajasthan</td>\n",
       "      <td>2.813203e+08</td>\n",
       "    </tr>\n",
       "    <tr>\n",
       "      <th>22</th>\n",
       "      <td>Odisha</td>\n",
       "      <td>1.609041e+08</td>\n",
       "    </tr>\n",
       "    <tr>\n",
       "      <th>31</th>\n",
       "      <td>Uttarakhand</td>\n",
       "      <td>1.321774e+08</td>\n",
       "    </tr>\n",
       "    <tr>\n",
       "      <th>6</th>\n",
       "      <td>Chhattisgarh</td>\n",
       "      <td>1.009519e+08</td>\n",
       "    </tr>\n",
       "    <tr>\n",
       "      <th>11</th>\n",
       "      <td>Himachal Pradesh</td>\n",
       "      <td>1.780517e+07</td>\n",
       "    </tr>\n",
       "    <tr>\n",
       "      <th>12</th>\n",
       "      <td>Jammu and Kashmir</td>\n",
       "      <td>1.329102e+07</td>\n",
       "    </tr>\n",
       "    <tr>\n",
       "      <th>21</th>\n",
       "      <td>Nagaland</td>\n",
       "      <td>1.276595e+07</td>\n",
       "    </tr>\n",
       "    <tr>\n",
       "      <th>29</th>\n",
       "      <td>Tripura</td>\n",
       "      <td>1.252292e+07</td>\n",
       "    </tr>\n",
       "    <tr>\n",
       "      <th>19</th>\n",
       "      <td>Meghalaya</td>\n",
       "      <td>1.211250e+07</td>\n",
       "    </tr>\n",
       "    <tr>\n",
       "      <th>13</th>\n",
       "      <td>Jharkhand</td>\n",
       "      <td>1.077774e+07</td>\n",
       "    </tr>\n",
       "    <tr>\n",
       "      <th>2</th>\n",
       "      <td>Arunachal Pradesh</td>\n",
       "      <td>6.823913e+06</td>\n",
       "    </tr>\n",
       "    <tr>\n",
       "      <th>18</th>\n",
       "      <td>Manipur</td>\n",
       "      <td>5.230917e+06</td>\n",
       "    </tr>\n",
       "    <tr>\n",
       "      <th>26</th>\n",
       "      <td>Sikkim</td>\n",
       "      <td>2.435735e+06</td>\n",
       "    </tr>\n",
       "    <tr>\n",
       "      <th>7</th>\n",
       "      <td>Dadra and Nagar Haveli</td>\n",
       "      <td>1.847871e+06</td>\n",
       "    </tr>\n",
       "    <tr>\n",
       "      <th>20</th>\n",
       "      <td>Mizoram</td>\n",
       "      <td>1.661540e+06</td>\n",
       "    </tr>\n",
       "    <tr>\n",
       "      <th>5</th>\n",
       "      <td>Chandigarh</td>\n",
       "      <td>6.395650e+04</td>\n",
       "    </tr>\n",
       "  </tbody>\n",
       "</table>\n",
       "</div>"
      ],
      "text/plain": [
       "                     State_Name    Production\n",
       "15                       Kerala  9.788005e+10\n",
       "1                Andhra Pradesh  1.732459e+10\n",
       "27                   Tamil Nadu  1.207644e+10\n",
       "30                Uttar Pradesh  3.234493e+09\n",
       "3                         Assam  2.111752e+09\n",
       "32                  West Bengal  1.397904e+09\n",
       "17                  Maharashtra  1.263641e+09\n",
       "14                    Karnataka  8.634298e+08\n",
       "0   Andaman and Nicobar Islands  7.182232e+08\n",
       "24                       Punjab  5.863850e+08\n",
       "9                       Gujarat  5.242913e+08\n",
       "8                           Goa  5.057558e+08\n",
       "16               Madhya Pradesh  4.488407e+08\n",
       "23                   Puducherry  3.847245e+08\n",
       "10                      Haryana  3.812739e+08\n",
       "4                         Bihar  3.664836e+08\n",
       "28                   Telangana   3.351479e+08\n",
       "25                    Rajasthan  2.813203e+08\n",
       "22                       Odisha  1.609041e+08\n",
       "31                  Uttarakhand  1.321774e+08\n",
       "6                  Chhattisgarh  1.009519e+08\n",
       "11             Himachal Pradesh  1.780517e+07\n",
       "12           Jammu and Kashmir   1.329102e+07\n",
       "21                     Nagaland  1.276595e+07\n",
       "29                      Tripura  1.252292e+07\n",
       "19                    Meghalaya  1.211250e+07\n",
       "13                    Jharkhand  1.077774e+07\n",
       "2             Arunachal Pradesh  6.823913e+06\n",
       "18                      Manipur  5.230917e+06\n",
       "26                       Sikkim  2.435735e+06\n",
       "7        Dadra and Nagar Haveli  1.847871e+06\n",
       "20                      Mizoram  1.661540e+06\n",
       "5                    Chandigarh  6.395650e+04"
      ]
     },
     "execution_count": 13,
     "metadata": {},
     "output_type": "execute_result"
    }
   ],
   "source": [
    "Prod_N= df.groupby(by = 'State_Name')['Production','State_Name'].sum().reset_index().sort_values(by = 'Production', ascending = False)\n",
    "Prod_N"
   ]
  },
  {
   "cell_type": "code",
   "execution_count": 14,
   "id": "cf81e18b",
   "metadata": {},
   "outputs": [
    {
     "data": {
      "text/plain": [
       "<AxesSubplot:xlabel='Production', ylabel='State_Name'>"
      ]
     },
     "execution_count": 14,
     "metadata": {},
     "output_type": "execute_result"
    },
    {
     "data": {
      "image/png": "[encoded data removed]",
      "text/plain": [
       "<Figure size 720x720 with 1 Axes>"
      ]
     },
     "metadata": {
      "needs_background": "light"
     },
     "output_type": "display_data"
    }
   ],
   "source": [
    "plt.figure(figsize= (10,10))\n",
    "sns.barplot(x=df['Production'],y= df[\"State_Name\"], orient='h')"
   ]
  },
  {
   "cell_type": "markdown",
   "id": "a4567cad",
   "metadata": {},
   "source": [
    "as we can see that the kerla has the highest production"
   ]
  },
  {
   "cell_type": "code",
   "execution_count": 15,
   "id": "1870a7d7",
   "metadata": {},
   "outputs": [
    {
     "name": "stdout",
     "output_type": "stream",
     "text": [
      "124\n"
     ]
    }
   ],
   "source": [
    "print(df.Crop.nunique())"
   ]
  },
  {
   "cell_type": "code",
   "execution_count": 16,
   "id": "48ba2ed1",
   "metadata": {},
   "outputs": [
    {
     "name": "stdout",
     "output_type": "stream",
     "text": [
      "other oilseeds\n"
     ]
    }
   ],
   "source": [
    "print(df.Crop.max())\n"
   ]
  },
  {
   "cell_type": "code",
   "execution_count": 17,
   "id": "cc42e353",
   "metadata": {},
   "outputs": [
    {
     "name": "stdout",
     "output_type": "stream",
     "text": [
      "Rice                 15082\n",
      "Maize                13787\n",
      "Moong(Green Gram)    10106\n",
      "Urad                  9710\n",
      "Sesamum               8821\n",
      "Name: Crop, dtype: int64\n"
     ]
    }
   ],
   "source": [
    "print(df.Crop.value_counts().head())"
   ]
  },
  {
   "cell_type": "code",
   "execution_count": 18,
   "id": "f5041bb9",
   "metadata": {},
   "outputs": [
    {
     "name": "stdout",
     "output_type": "stream",
     "text": [
      "19\n",
      "1997\n",
      "2015\n",
      "2003    17139\n",
      "2002    16536\n",
      "2007    14269\n",
      "2008    14230\n",
      "2006    13976\n",
      "2004    13858\n",
      "2010    13793\n",
      "2011    13791\n",
      "2009    13767\n",
      "2000    13553\n",
      "2005    13519\n",
      "2013    13475\n",
      "2001    13293\n",
      "2012    13184\n",
      "1999    12441\n",
      "1998    11262\n",
      "2014    10815\n",
      "1997     8899\n",
      "2015      561\n",
      "Name: Crop_Year, dtype: int64\n"
     ]
    }
   ],
   "source": [
    "print(df.Crop_Year.nunique())\n",
    "print(df.Crop_Year.min())\n",
    "print(df.Crop_Year.max())\n",
    "print(df.Crop_Year.value_counts())"
   ]
  },
  {
   "cell_type": "markdown",
   "id": "02fe0664",
   "metadata": {},
   "source": [
    "There is 19 years of data in the dataset started  from 1997 to 2015.\n",
    "Top years are 2003, 2002, 2007–08 and 2006"
   ]
  },
  {
   "cell_type": "markdown",
   "id": "26db3c88",
   "metadata": {},
   "source": [
    "# Exploratory Analysis and Visualization"
   ]
  },
  {
   "cell_type": "code",
   "execution_count": 19,
   "id": "97e413e2",
   "metadata": {},
   "outputs": [
    {
     "data": {
      "text/html": [
       "<div>\n",
       "<style scoped>\n",
       "    .dataframe tbody tr th:only-of-type {\n",
       "        vertical-align: middle;\n",
       "    }\n",
       "\n",
       "    .dataframe tbody tr th {\n",
       "        vertical-align: top;\n",
       "    }\n",
       "\n",
       "    .dataframe thead th {\n",
       "        text-align: right;\n",
       "    }\n",
       "</style>\n",
       "<table border=\"1\" class=\"dataframe\">\n",
       "  <thead>\n",
       "    <tr style=\"text-align: right;\">\n",
       "      <th></th>\n",
       "      <th>Crop_Year</th>\n",
       "      <th>Area</th>\n",
       "      <th>Production</th>\n",
       "    </tr>\n",
       "  </thead>\n",
       "  <tbody>\n",
       "    <tr>\n",
       "      <th>count</th>\n",
       "      <td>242361.000000</td>\n",
       "      <td>2.423610e+05</td>\n",
       "      <td>2.423610e+05</td>\n",
       "    </tr>\n",
       "    <tr>\n",
       "      <th>mean</th>\n",
       "      <td>2005.625773</td>\n",
       "      <td>1.216741e+04</td>\n",
       "      <td>5.825034e+05</td>\n",
       "    </tr>\n",
       "    <tr>\n",
       "      <th>std</th>\n",
       "      <td>4.958285</td>\n",
       "      <td>5.085744e+04</td>\n",
       "      <td>1.706581e+07</td>\n",
       "    </tr>\n",
       "    <tr>\n",
       "      <th>min</th>\n",
       "      <td>1997.000000</td>\n",
       "      <td>1.000000e-01</td>\n",
       "      <td>0.000000e+00</td>\n",
       "    </tr>\n",
       "    <tr>\n",
       "      <th>25%</th>\n",
       "      <td>2002.000000</td>\n",
       "      <td>8.700000e+01</td>\n",
       "      <td>8.800000e+01</td>\n",
       "    </tr>\n",
       "    <tr>\n",
       "      <th>50%</th>\n",
       "      <td>2006.000000</td>\n",
       "      <td>6.030000e+02</td>\n",
       "      <td>7.290000e+02</td>\n",
       "    </tr>\n",
       "    <tr>\n",
       "      <th>75%</th>\n",
       "      <td>2010.000000</td>\n",
       "      <td>4.545000e+03</td>\n",
       "      <td>7.023000e+03</td>\n",
       "    </tr>\n",
       "    <tr>\n",
       "      <th>max</th>\n",
       "      <td>2015.000000</td>\n",
       "      <td>8.580100e+06</td>\n",
       "      <td>1.250800e+09</td>\n",
       "    </tr>\n",
       "  </tbody>\n",
       "</table>\n",
       "</div>"
      ],
      "text/plain": [
       "           Crop_Year          Area    Production\n",
       "count  242361.000000  2.423610e+05  2.423610e+05\n",
       "mean     2005.625773  1.216741e+04  5.825034e+05\n",
       "std         4.958285  5.085744e+04  1.706581e+07\n",
       "min      1997.000000  1.000000e-01  0.000000e+00\n",
       "25%      2002.000000  8.700000e+01  8.800000e+01\n",
       "50%      2006.000000  6.030000e+02  7.290000e+02\n",
       "75%      2010.000000  4.545000e+03  7.023000e+03\n",
       "max      2015.000000  8.580100e+06  1.250800e+09"
      ]
     },
     "execution_count": 19,
     "metadata": {},
     "output_type": "execute_result"
    }
   ],
   "source": [
    "df.describe()"
   ]
  },
  {
   "cell_type": "code",
   "execution_count": 20,
   "id": "668554c5",
   "metadata": {},
   "outputs": [
    {
     "data": {
      "text/plain": [
       "(array([2.42347e+05, 6.00000e+00, 5.00000e+00, 2.00000e+00, 1.00000e+00]),\n",
       " array([1.00000000e-01, 1.71602008e+06, 3.43204006e+06, 5.14806004e+06,\n",
       "        6.86408002e+06, 8.58010000e+06]),\n",
       " <BarContainer object of 5 artists>)"
      ]
     },
     "execution_count": 20,
     "metadata": {},
     "output_type": "execute_result"
    },
    {
     "data": {
      "image/png": "[encoded data removed]",
      "text/plain": [
       "<Figure size 432x288 with 1 Axes>"
      ]
     },
     "metadata": {
      "needs_background": "light"
     },
     "output_type": "display_data"
    }
   ],
   "source": [
    "plt.hist(df.Area, bins = 5)"
   ]
  },
  {
   "cell_type": "code",
   "execution_count": 21,
   "id": "d0dbf4ef",
   "metadata": {},
   "outputs": [
    {
     "data": {
      "text/plain": [
       "(array([2.42229e+05, 1.04000e+02, 2.80000e+01]),\n",
       " array([0.00000000e+00, 4.16933333e+08, 8.33866667e+08, 1.25080000e+09]),\n",
       " <BarContainer object of 3 artists>)"
      ]
     },
     "execution_count": 21,
     "metadata": {},
     "output_type": "execute_result"
    },
    {
     "data": {
      "image/png": "[encoded data removed]",
      "text/plain": [
       "<Figure size 432x288 with 1 Axes>"
      ]
     },
     "metadata": {
      "needs_background": "light"
     },
     "output_type": "display_data"
    }
   ],
   "source": [
    "plt.hist(df.Production, bins = 3)"
   ]
  },
  {
   "cell_type": "markdown",
   "id": "85d95eda",
   "metadata": {},
   "source": [
    "Now we are saving the states to zone-wise "
   ]
  },
  {
   "cell_type": "code",
   "execution_count": 22,
   "id": "c16ad46c",
   "metadata": {},
   "outputs": [],
   "source": [
    "north_india = ['Jammu and Kashmir', 'Punjab', 'Himachal Pradesh', 'Haryana', 'Uttarakhand', 'Uttar Pradesh', 'Chandigarh']\n",
    "east_india = ['Bihar', 'Odisha', 'Jharkhand', 'West Bengal']\n",
    "south_india = ['Andhra Pradesh', 'Karnataka', 'Kerala' ,'Tamil Nadu', 'Telangana']\n",
    "west_india = ['Rajasthan' , 'Gujarat', 'Goa','Maharashtra']\n",
    "central_india = ['Madhya Pradesh', 'Chhattisgarh']\n",
    "north_east_india = ['Assam', 'Sikkim', 'Nagaland', 'Meghalaya', 'Manipur', 'Mizoram', 'Tripura', 'Arunachal Pradesh']\n",
    "ut_india = ['Andaman and Nicobar Islands', 'Dadra and Nagar Haveli', 'Puducherry']"
   ]
  },
  {
   "cell_type": "code",
   "execution_count": 23,
   "id": "bbcef150",
   "metadata": {},
   "outputs": [
    {
     "data": {
      "text/plain": [
       "array(['Union Terr', 'South Zone', 'NE Zone', 'East Zone', 'North Zone',\n",
       "       'Central Zone', 'West Zone'], dtype=object)"
      ]
     },
     "execution_count": 23,
     "metadata": {},
     "output_type": "execute_result"
    }
   ],
   "source": [
    "def get_zonal_names(row):\n",
    "    if row['State_Name'].strip() in north_india:\n",
    "        val = 'North Zone'\n",
    "    elif row['State_Name'].strip()  in south_india:\n",
    "        val = 'South Zone'\n",
    "    elif row['State_Name'].strip()  in east_india:\n",
    "        val = 'East Zone'\n",
    "    elif row['State_Name'].strip()  in west_india:\n",
    "        val = 'West Zone'\n",
    "    elif row['State_Name'].strip()  in central_india:\n",
    "        val = 'Central Zone'\n",
    "    elif row['State_Name'].strip()  in north_east_india:\n",
    "        val = 'NE Zone'\n",
    "    elif row['State_Name'].strip()  in ut_india:\n",
    "        val = 'Union Terr'\n",
    "    else:\n",
    "        val = 'No Value'\n",
    "    return val\n",
    "\n",
    "df['Zones'] = df.apply(get_zonal_names, axis=1)\n",
    "df['Zones'].unique()"
   ]
  },
  {
   "cell_type": "code",
   "execution_count": 24,
   "id": "a6c80d92",
   "metadata": {},
   "outputs": [
    {
     "data": {
      "text/plain": [
       "South Zone      53500\n",
       "North Zone      49874\n",
       "East Zone       43261\n",
       "West Zone       33134\n",
       "Central Zone    32972\n",
       "NE Zone         28284\n",
       "Union Terr       1336\n",
       "Name: Zones, dtype: int64"
      ]
     },
     "execution_count": 24,
     "metadata": {},
     "output_type": "execute_result"
    }
   ],
   "source": [
    "df.Zones.value_counts()"
   ]
  },
  {
   "cell_type": "code",
   "execution_count": 25,
   "id": "0165bc7e",
   "metadata": {},
   "outputs": [
    {
     "name": "stdout",
     "output_type": "stream",
     "text": [
      "['Arecanut' 'Other Kharif pulses' 'Rice' 'Banana' 'Cashewnut' 'Coconut '\n",
      " 'Dry ginger' 'Sugarcane' 'Sweet potato' 'Tapioca' 'Black pepper'\n",
      " 'Dry chillies' 'other oilseeds' 'Turmeric' 'Maize' 'Moong(Green Gram)'\n",
      " 'Urad' 'Arhar/Tur' 'Groundnut' 'Sunflower' 'Bajra' 'Castor seed'\n",
      " 'Cotton(lint)' 'Horse-gram' 'Jowar' 'Korra' 'Ragi' 'Tobacco' 'Gram'\n",
      " 'Wheat' 'Masoor' 'Sesamum' 'Linseed' 'Safflower' 'Onion'\n",
      " 'other misc. pulses' 'Samai' 'Small millets' 'Coriander' 'Potato'\n",
      " 'Other  Rabi pulses' 'Soyabean' 'Beans & Mutter(Vegetable)' 'Bhindi'\n",
      " 'Brinjal' 'Citrus Fruit' 'Cucumber' 'Grapes' 'Mango' 'Orange'\n",
      " 'other fibres' 'Other Fresh Fruits' 'Other Vegetables' 'Papaya'\n",
      " 'Pome Fruit' 'Tomato' 'Mesta' 'Cowpea(Lobia)' 'Lemon' 'Pome Granet'\n",
      " 'Sapota' 'Cabbage' 'Rapeseed &Mustard' 'Peas  (vegetable)' 'Niger seed'\n",
      " 'Bottle Gourd' 'Varagu' 'Garlic' 'Ginger' 'Oilseeds total' 'Pulses total'\n",
      " 'Jute' 'Peas & beans (Pulses)' 'Blackgram' 'Paddy' 'Pineapple' 'Barley'\n",
      " 'Sannhamp' 'Khesari' 'Guar seed' 'Moth' 'Other Cereals & Millets'\n",
      " 'Cond-spcs other' 'Turnip' 'Carrot' 'Redish' 'Arcanut (Processed)'\n",
      " 'Atcanut (Raw)' 'Cashewnut Processed' 'Cashewnut Raw' 'Cardamom' 'Rubber'\n",
      " 'Bitter Gourd' 'Drum Stick' 'Jack Fruit' 'Snak Guard' 'Tea' 'Coffee'\n",
      " 'Cauliflower' 'Other Citrus Fruit' 'Water Melon' 'Total foodgrain'\n",
      " 'Kapas' 'Colocosia' 'Lentil' 'Bean' 'Jobster' 'Perilla' 'Rajmash Kholar'\n",
      " 'Ricebean (nagadal)' 'Ash Gourd' 'Beet Root' 'Lab-Lab' 'Ribed Guard'\n",
      " 'Yam' 'Pump Kin' 'Apple' 'Peach' 'Pear' 'Plums' 'Litchi' 'Ber'\n",
      " 'Other Dry Fruit' 'Jute & mesta']\n"
     ]
    }
   ],
   "source": [
    "print(df.Crop.unique())"
   ]
  },
  {
   "cell_type": "markdown",
   "id": "a05a83df",
   "metadata": {},
   "source": [
    "Now we can see that there are different different crops which are having same category so we categorise that accordingly"
   ]
  },
  {
   "cell_type": "code",
   "execution_count": 26,
   "id": "00bf84e1",
   "metadata": {},
   "outputs": [],
   "source": [
    "crop=df['Crop']\n",
    "def cat_crop(crop):\n",
    "    for i in ['Rice','Maize','Wheat','Barley','Varagu','Other Cereals & Millets',\n",
    "              'Ragi','Small millets','Bajra','Jowar', 'Paddy','Total foodgrain','Jobster']:\n",
    "        if crop==i:\n",
    "            return 'Cereal'\n",
    "    for i in ['Moong','Urad','Arhar/Tur','Peas & beans','Masoor',\n",
    "              'Other Kharif pulses','other misc. pulses','Ricebean (nagadal)',\n",
    "              'Rajmash Kholar','Lentil','Samai','Blackgram','Korra','Cowpea(Lobia)',\n",
    "              'Other  Rabi pulses','Other Kharif pulses','Peas & beans (Pulses)','Pulses total','Gram']:\n",
    "        if crop==i:\n",
    "            return 'Pulses'\n",
    "    for i in ['Peach','Apple','Litchi','Pear','Plums','Ber','Sapota','Lemon','Pome Granet',\n",
    "               'Other Citrus Fruit','Water Melon','Jack Fruit','Grapes','Pineapple','Orange',\n",
    "               'Pome Fruit','Citrus Fruit','Other Fresh Fruits','Mango','Papaya','Coconut','Banana']:\n",
    "        if crop==i:\n",
    "            return 'Fruits'\n",
    "    for i in ['Bean','Lab-Lab','Moth','Guar seed','Soyabean','Horse-gram']:\n",
    "        if crop==i:\n",
    "            return 'Beans'\n",
    "    for i in ['Turnip','Peas','Beet Root','Carrot','Yam','Ribed Guard','Ash Gourd ',\n",
    "              'Pump Kin','Redish','Snak Guard','Bottle Gourd',\n",
    "              'Bitter Gourd','Cucumber','Drum Stick','Cauliflower','Beans & Mutter(Vegetable)','Cabbage',\n",
    "              'Bhindi','Tomato','Brinjal','Khesari','Sweet potato','Potato','Onion','Tapioca','Colocosia']:\n",
    "              if crop==i:\n",
    "                return 'Vegetables'\n",
    "    for i in ['Perilla','Ginger','Cardamom','Black pepper','Dry ginger','Garlic',\n",
    "              'Coriander','Turmeric','Dry chillies','Cond-spcs other']:\n",
    "        if crop==i:\n",
    "            return 'spices'\n",
    "    for i in ['other fibres','Kapas','Jute & mesta','Jute','Mesta','Cotton(lint)','Sannhamp']:\n",
    "        if crop==i:\n",
    "            return 'fibres'\n",
    "    for i in ['Arcanut (Processed)','Atcanut (Raw)','Cashewnut Processed','Cashewnut Raw','Cashewnut','Arecanut','Groundnut']:\n",
    "        if crop==i:\n",
    "            return 'Nuts'\n",
    "    for i in ['other oilseeds','Safflower','Niger seed','Castor seed','Linseed','Sunflower','Rapeseed &Mustard',\n",
    "              'Sesamum','Oilseeds total']:\n",
    "        if crop==i:\n",
    "            return 'oilseeds'\n",
    "    for i in ['Tobacco','Coffee','Tea','Sugarcane','Rubber']:\n",
    "        if crop==i:\n",
    "            return 'Commercial'\n",
    "\n",
    "df['cat_crop']=df['Crop'].apply(cat_crop)"
   ]
  },
  {
   "cell_type": "markdown",
   "id": "44edfe45",
   "metadata": {},
   "source": [
    "# Zone Wise Production"
   ]
  },
  {
   "cell_type": "code",
   "execution_count": 27,
   "id": "43eeb62b",
   "metadata": {},
   "outputs": [
    {
     "name": "stderr",
     "output_type": "stream",
     "text": [
      "C:\\Users\\Manis\\anaconda3\\lib\\site-packages\\seaborn\\_decorators.py:36: FutureWarning: Pass the following variables as keyword args: x, y. From version 0.12, the only valid positional argument will be `data`, and passing other arguments without an explicit keyword will result in an error or misinterpretation.\n",
      "  warnings.warn(\n"
     ]
    },
    {
     "data": {
      "text/plain": [
       "Text(0.5, 1.0, 'Zone-Wise Production: Total')"
      ]
     },
     "execution_count": 27,
     "metadata": {},
     "output_type": "execute_result"
    },
    {
     "data": {
      "image/png": "[encoded data removed]",
      "text/plain": [
       "<Figure size 1080x720 with 1 Axes>"
      ]
     },
     "metadata": {
      "needs_background": "light"
     },
     "output_type": "display_data"
    }
   ],
   "source": [
    "fig, ax = plt.subplots(figsize=(15,10))\n",
    "sns.barplot(df.Zones.sort_values(ascending=True), df.Production)\n",
    "plt.yscale('log')\n",
    "plt.title('Zone-Wise Production: Total')"
   ]
  },
  {
   "cell_type": "markdown",
   "id": "9d84a5b5",
   "metadata": {},
   "source": [
    "As we can see that south zone has heighest number of production"
   ]
  },
  {
   "cell_type": "code",
   "execution_count": 28,
   "id": "924d77ab",
   "metadata": {},
   "outputs": [
    {
     "name": "stderr",
     "output_type": "stream",
     "text": [
      "C:\\Users\\Manis\\anaconda3\\lib\\site-packages\\seaborn\\_decorators.py:36: FutureWarning: Pass the following variables as keyword args: x, y. From version 0.12, the only valid positional argument will be `data`, and passing other arguments without an explicit keyword will result in an error or misinterpretation.\n",
      "  warnings.warn(\n"
     ]
    },
    {
     "data": {
      "text/plain": [
       "Text(0.5, 1.0, 'Southern-Zone Production')"
      ]
     },
     "execution_count": 28,
     "metadata": {},
     "output_type": "execute_result"
    },
    {
     "data": {
      "image/png": "[encoded data removed]",
      "text/plain": [
       "<Figure size 1080x576 with 1 Axes>"
      ]
     },
     "metadata": {
      "needs_background": "light"
     },
     "output_type": "display_data"
    }
   ],
   "source": [
    "south_zone =  df[(df[\"Zones\"] == 'South Zone')]\n",
    "fig, ax = plt.subplots(figsize=(15,8))\n",
    "sns.barplot(south_zone.State_Name, south_zone.Production,errwidth=0)\n",
    "plt.yscale('log')\n",
    "plt.title('Southern-Zone Production')"
   ]
  },
  {
   "cell_type": "markdown",
   "id": "fabff906",
   "metadata": {},
   "source": [
    "Looking at the chart we can see that top South Indian states are Kerala, Andhra Pradesh and Tamil Nadu"
   ]
  },
  {
   "cell_type": "code",
   "execution_count": 29,
   "id": "16051a08",
   "metadata": {},
   "outputs": [
    {
     "data": {
      "text/html": [
       "<div>\n",
       "<style scoped>\n",
       "    .dataframe tbody tr th:only-of-type {\n",
       "        vertical-align: middle;\n",
       "    }\n",
       "\n",
       "    .dataframe tbody tr th {\n",
       "        vertical-align: top;\n",
       "    }\n",
       "\n",
       "    .dataframe thead th {\n",
       "        text-align: right;\n",
       "    }\n",
       "</style>\n",
       "<table border=\"1\" class=\"dataframe\">\n",
       "  <thead>\n",
       "    <tr style=\"text-align: right;\">\n",
       "      <th></th>\n",
       "      <th>State_Name</th>\n",
       "      <th>District_Name</th>\n",
       "      <th>Crop_Year</th>\n",
       "      <th>Season</th>\n",
       "      <th>Crop</th>\n",
       "      <th>Area</th>\n",
       "      <th>Production</th>\n",
       "      <th>Zones</th>\n",
       "      <th>cat_crop</th>\n",
       "    </tr>\n",
       "  </thead>\n",
       "  <tbody>\n",
       "    <tr>\n",
       "      <th>0</th>\n",
       "      <td>Andaman and Nicobar Islands</td>\n",
       "      <td>NICOBARS</td>\n",
       "      <td>2000</td>\n",
       "      <td>Kharif</td>\n",
       "      <td>Arecanut</td>\n",
       "      <td>1254.0</td>\n",
       "      <td>2000.0</td>\n",
       "      <td>Union Terr</td>\n",
       "      <td>Nuts</td>\n",
       "    </tr>\n",
       "    <tr>\n",
       "      <th>1</th>\n",
       "      <td>Andaman and Nicobar Islands</td>\n",
       "      <td>NICOBARS</td>\n",
       "      <td>2000</td>\n",
       "      <td>Kharif</td>\n",
       "      <td>Other Kharif pulses</td>\n",
       "      <td>2.0</td>\n",
       "      <td>1.0</td>\n",
       "      <td>Union Terr</td>\n",
       "      <td>Pulses</td>\n",
       "    </tr>\n",
       "    <tr>\n",
       "      <th>2</th>\n",
       "      <td>Andaman and Nicobar Islands</td>\n",
       "      <td>NICOBARS</td>\n",
       "      <td>2000</td>\n",
       "      <td>Kharif</td>\n",
       "      <td>Rice</td>\n",
       "      <td>102.0</td>\n",
       "      <td>321.0</td>\n",
       "      <td>Union Terr</td>\n",
       "      <td>Cereal</td>\n",
       "    </tr>\n",
       "    <tr>\n",
       "      <th>3</th>\n",
       "      <td>Andaman and Nicobar Islands</td>\n",
       "      <td>NICOBARS</td>\n",
       "      <td>2000</td>\n",
       "      <td>Whole Year</td>\n",
       "      <td>Banana</td>\n",
       "      <td>176.0</td>\n",
       "      <td>641.0</td>\n",
       "      <td>Union Terr</td>\n",
       "      <td>Fruits</td>\n",
       "    </tr>\n",
       "    <tr>\n",
       "      <th>4</th>\n",
       "      <td>Andaman and Nicobar Islands</td>\n",
       "      <td>NICOBARS</td>\n",
       "      <td>2000</td>\n",
       "      <td>Whole Year</td>\n",
       "      <td>Cashewnut</td>\n",
       "      <td>720.0</td>\n",
       "      <td>165.0</td>\n",
       "      <td>Union Terr</td>\n",
       "      <td>Nuts</td>\n",
       "    </tr>\n",
       "    <tr>\n",
       "      <th>...</th>\n",
       "      <td>...</td>\n",
       "      <td>...</td>\n",
       "      <td>...</td>\n",
       "      <td>...</td>\n",
       "      <td>...</td>\n",
       "      <td>...</td>\n",
       "      <td>...</td>\n",
       "      <td>...</td>\n",
       "      <td>...</td>\n",
       "    </tr>\n",
       "    <tr>\n",
       "      <th>246086</th>\n",
       "      <td>West Bengal</td>\n",
       "      <td>PURULIA</td>\n",
       "      <td>2014</td>\n",
       "      <td>Summer</td>\n",
       "      <td>Rice</td>\n",
       "      <td>306.0</td>\n",
       "      <td>801.0</td>\n",
       "      <td>East Zone</td>\n",
       "      <td>Cereal</td>\n",
       "    </tr>\n",
       "    <tr>\n",
       "      <th>246087</th>\n",
       "      <td>West Bengal</td>\n",
       "      <td>PURULIA</td>\n",
       "      <td>2014</td>\n",
       "      <td>Summer</td>\n",
       "      <td>Sesamum</td>\n",
       "      <td>627.0</td>\n",
       "      <td>463.0</td>\n",
       "      <td>East Zone</td>\n",
       "      <td>oilseeds</td>\n",
       "    </tr>\n",
       "    <tr>\n",
       "      <th>246088</th>\n",
       "      <td>West Bengal</td>\n",
       "      <td>PURULIA</td>\n",
       "      <td>2014</td>\n",
       "      <td>Whole Year</td>\n",
       "      <td>Sugarcane</td>\n",
       "      <td>324.0</td>\n",
       "      <td>16250.0</td>\n",
       "      <td>East Zone</td>\n",
       "      <td>Commercial</td>\n",
       "    </tr>\n",
       "    <tr>\n",
       "      <th>246089</th>\n",
       "      <td>West Bengal</td>\n",
       "      <td>PURULIA</td>\n",
       "      <td>2014</td>\n",
       "      <td>Winter</td>\n",
       "      <td>Rice</td>\n",
       "      <td>279151.0</td>\n",
       "      <td>597899.0</td>\n",
       "      <td>East Zone</td>\n",
       "      <td>Cereal</td>\n",
       "    </tr>\n",
       "    <tr>\n",
       "      <th>246090</th>\n",
       "      <td>West Bengal</td>\n",
       "      <td>PURULIA</td>\n",
       "      <td>2014</td>\n",
       "      <td>Winter</td>\n",
       "      <td>Sesamum</td>\n",
       "      <td>175.0</td>\n",
       "      <td>88.0</td>\n",
       "      <td>East Zone</td>\n",
       "      <td>oilseeds</td>\n",
       "    </tr>\n",
       "  </tbody>\n",
       "</table>\n",
       "<p>242361 rows × 9 columns</p>\n",
       "</div>"
      ],
      "text/plain": [
       "                         State_Name District_Name  Crop_Year       Season  \\\n",
       "0       Andaman and Nicobar Islands      NICOBARS       2000  Kharif        \n",
       "1       Andaman and Nicobar Islands      NICOBARS       2000  Kharif        \n",
       "2       Andaman and Nicobar Islands      NICOBARS       2000  Kharif        \n",
       "3       Andaman and Nicobar Islands      NICOBARS       2000  Whole Year    \n",
       "4       Andaman and Nicobar Islands      NICOBARS       2000  Whole Year    \n",
       "...                             ...           ...        ...          ...   \n",
       "246086                  West Bengal       PURULIA       2014  Summer        \n",
       "246087                  West Bengal       PURULIA       2014  Summer        \n",
       "246088                  West Bengal       PURULIA       2014  Whole Year    \n",
       "246089                  West Bengal       PURULIA       2014  Winter        \n",
       "246090                  West Bengal       PURULIA       2014  Winter        \n",
       "\n",
       "                       Crop      Area  Production       Zones    cat_crop  \n",
       "0                  Arecanut    1254.0      2000.0  Union Terr        Nuts  \n",
       "1       Other Kharif pulses       2.0         1.0  Union Terr      Pulses  \n",
       "2                      Rice     102.0       321.0  Union Terr      Cereal  \n",
       "3                    Banana     176.0       641.0  Union Terr      Fruits  \n",
       "4                 Cashewnut     720.0       165.0  Union Terr        Nuts  \n",
       "...                     ...       ...         ...         ...         ...  \n",
       "246086                 Rice     306.0       801.0   East Zone      Cereal  \n",
       "246087              Sesamum     627.0       463.0   East Zone    oilseeds  \n",
       "246088            Sugarcane     324.0     16250.0   East Zone  Commercial  \n",
       "246089                 Rice  279151.0    597899.0   East Zone      Cereal  \n",
       "246090              Sesamum     175.0        88.0   East Zone    oilseeds  \n",
       "\n",
       "[242361 rows x 9 columns]"
      ]
     },
     "execution_count": 29,
     "metadata": {},
     "output_type": "execute_result"
    }
   ],
   "source": [
    "df"
   ]
  },
  {
   "cell_type": "markdown",
   "id": "e93d357d",
   "metadata": {},
   "source": [
    "Now we can check overall/heighest crop production "
   ]
  },
  {
   "cell_type": "markdown",
   "id": "1dfe9cd0",
   "metadata": {},
   "source": [
    "# Overall Crops vs Production"
   ]
  },
  {
   "cell_type": "code",
   "execution_count": 30,
   "id": "ec7707f9",
   "metadata": {},
   "outputs": [
    {
     "name": "stderr",
     "output_type": "stream",
     "text": [
      "C:\\Users\\Manis\\anaconda3\\lib\\site-packages\\seaborn\\_decorators.py:36: FutureWarning: Pass the following variables as keyword args: x, y. From version 0.12, the only valid positional argument will be `data`, and passing other arguments without an explicit keyword will result in an error or misinterpretation.\n",
      "  warnings.warn(\n"
     ]
    },
    {
     "data": {
      "text/plain": [
       "Text(0.5, 1.0, 'Overall Crops vs Production')"
      ]
     },
     "execution_count": 30,
     "metadata": {},
     "output_type": "execute_result"
    },
    {
     "data": {
      "image/png": "[encoded data removed]",
      "text/plain": [
       "<Figure size 1080x432 with 1 Axes>"
      ]
     },
     "metadata": {
      "needs_background": "light"
     },
     "output_type": "display_data"
    }
   ],
   "source": [
    "\n",
    "crop = df.groupby(by='Crop')['Production'].sum().reset_index().sort_values(by='Production', ascending=False).head(10)\n",
    "crop \n",
    "fig, ax = plt.subplots(figsize=(15,6))\n",
    "sns.barplot(crop.Crop, crop.Production)\n",
    "plt.yscale('log')\n",
    "plt.title('Overall Crops vs Production')"
   ]
  },
  {
   "cell_type": "markdown",
   "id": "f7c79cd0",
   "metadata": {},
   "source": [
    "Top Crops Production wise are --->> Coconut, Sugarcane and Rice"
   ]
  },
  {
   "cell_type": "markdown",
   "id": "da9c96d8",
   "metadata": {},
   "source": [
    "# Year wise"
   ]
  },
  {
   "cell_type": "code",
   "execution_count": 31,
   "id": "66b314d3",
   "metadata": {},
   "outputs": [
    {
     "data": {
      "text/plain": [
       "<AxesSubplot:xlabel='Crop_Year'>"
      ]
     },
     "execution_count": 31,
     "metadata": {},
     "output_type": "execute_result"
    },
    {
     "data": {
      "image/png": "[encoded data removed]",
      "text/plain": [
       "<Figure size 432x288 with 1 Axes>"
      ]
     },
     "metadata": {
      "needs_background": "light"
     },
     "output_type": "display_data"
    }
   ],
   "source": [
    "plt.tick_params(labelsize=12)\n",
    "df.groupby(\"Crop_Year\")[\"Production\"].agg(\"sum\").plot.bar()"
   ]
  },
  {
   "cell_type": "markdown",
   "id": "18d306c1",
   "metadata": {},
   "source": [
    "High productive years are 2011, 2013 and 2014 "
   ]
  },
  {
   "cell_type": "markdown",
   "id": "adee4cb2",
   "metadata": {},
   "source": [
    "# Season wise Production"
   ]
  },
  {
   "cell_type": "code",
   "execution_count": 32,
   "id": "5d535653",
   "metadata": {},
   "outputs": [
    {
     "name": "stderr",
     "output_type": "stream",
     "text": [
      "C:\\Users\\Manis\\anaconda3\\lib\\site-packages\\seaborn\\_decorators.py:36: FutureWarning: Pass the following variables as keyword args: x, y. From version 0.12, the only valid positional argument will be `data`, and passing other arguments without an explicit keyword will result in an error or misinterpretation.\n",
      "  warnings.warn(\n"
     ]
    },
    {
     "data": {
      "text/plain": [
       "Text(0.5, 1.0, 'Seasonal Crops vs Production')"
      ]
     },
     "execution_count": 32,
     "metadata": {},
     "output_type": "execute_result"
    },
    {
     "data": {
      "image/png": "[encoded data removed]",
      "text/plain": [
       "<Figure size 864x576 with 1 Axes>"
      ]
     },
     "metadata": {
      "needs_background": "light"
     },
     "output_type": "display_data"
    }
   ],
   "source": [
    "df_season=df.copy()\n",
    "season = df_season.groupby(by='Season')['Production'].sum().reset_index().sort_values(by='Production', ascending=False).head(10)\n",
    "season\n",
    "fig, ax = plt.subplots(figsize=(12,8))\n",
    "sns.barplot(season.Season, season.Production,errwidth=0)\n",
    "plt.yscale('log')\n",
    "plt.title('Seasonal Crops vs Production')"
   ]
  },
  {
   "cell_type": "markdown",
   "id": "2d644859",
   "metadata": {},
   "source": [
    "Top crop categories which shows high production values are Whole Year, Kharif and Rabi crops. It clearly shows these crops heavily dependent on seasonal monsoons"
   ]
  },
  {
   "cell_type": "markdown",
   "id": "d89bc987",
   "metadata": {},
   "source": [
    "# Crop wise Production"
   ]
  },
  {
   "cell_type": "code",
   "execution_count": 33,
   "id": "ef33f5d9",
   "metadata": {},
   "outputs": [
    {
     "data": {
      "image/png": "[encoded data removed]",
      "text/plain": [
       "<Figure size 1080x576 with 1 Axes>"
      ]
     },
     "metadata": {
      "needs_background": "light"
     },
     "output_type": "display_data"
    }
   ],
   "source": [
    "plt.figure(figsize=(15,8))\n",
    "plt.tick_params(labelsize=10)\n",
    "df.groupby(\"cat_crop\")[\"Production\"].agg(\"count\").plot.bar()\n",
    "plt.show()"
   ]
  },
  {
   "cell_type": "markdown",
   "id": "ab48b213",
   "metadata": {},
   "source": [
    "Top crop categories are Cereal, Pulses and Oilseeds"
   ]
  },
  {
   "cell_type": "markdown",
   "id": "24bc6cb4",
   "metadata": {},
   "source": [
    "# Crop Categories"
   ]
  },
  {
   "cell_type": "code",
   "execution_count": 34,
   "id": "2560ec64",
   "metadata": {},
   "outputs": [
    {
     "data": {
      "image/png": "[encoded data removed]",
      "text/plain": [
       "<Figure size 432x288 with 1 Axes>"
      ]
     },
     "metadata": {},
     "output_type": "display_data"
    }
   ],
   "source": [
    "df1=df[\"cat_crop\"].value_counts()\n",
    "df1.plot(radius=2,kind=\"pie\",autopct=\"%1.1f\")\n",
    "plt.tick_params(labelsize=10)"
   ]
  },
  {
   "cell_type": "code",
   "execution_count": 35,
   "id": "fe8a1ebb",
   "metadata": {},
   "outputs": [
    {
     "data": {
      "text/html": [
       "<div>\n",
       "<style scoped>\n",
       "    .dataframe tbody tr th:only-of-type {\n",
       "        vertical-align: middle;\n",
       "    }\n",
       "\n",
       "    .dataframe tbody tr th {\n",
       "        vertical-align: top;\n",
       "    }\n",
       "\n",
       "    .dataframe thead th {\n",
       "        text-align: right;\n",
       "    }\n",
       "</style>\n",
       "<table border=\"1\" class=\"dataframe\">\n",
       "  <thead>\n",
       "    <tr style=\"text-align: right;\">\n",
       "      <th>cat_crop</th>\n",
       "      <th>Beans</th>\n",
       "      <th>Cereal</th>\n",
       "      <th>Commercial</th>\n",
       "      <th>Fruits</th>\n",
       "      <th>Nuts</th>\n",
       "      <th>Pulses</th>\n",
       "      <th>Vegetables</th>\n",
       "      <th>fibres</th>\n",
       "      <th>oilseeds</th>\n",
       "      <th>spices</th>\n",
       "    </tr>\n",
       "    <tr>\n",
       "      <th>State_Name</th>\n",
       "      <th></th>\n",
       "      <th></th>\n",
       "      <th></th>\n",
       "      <th></th>\n",
       "      <th></th>\n",
       "      <th></th>\n",
       "      <th></th>\n",
       "      <th></th>\n",
       "      <th></th>\n",
       "      <th></th>\n",
       "    </tr>\n",
       "  </thead>\n",
       "  <tbody>\n",
       "    <tr>\n",
       "      <th>Andaman and Nicobar Islands</th>\n",
       "      <td>0</td>\n",
       "      <td>20</td>\n",
       "      <td>15</td>\n",
       "      <td>16</td>\n",
       "      <td>37</td>\n",
       "      <td>9</td>\n",
       "      <td>20</td>\n",
       "      <td>0</td>\n",
       "      <td>11</td>\n",
       "      <td>52</td>\n",
       "    </tr>\n",
       "    <tr>\n",
       "      <th>Andhra Pradesh</th>\n",
       "      <td>386</td>\n",
       "      <td>2264</td>\n",
       "      <td>474</td>\n",
       "      <td>502</td>\n",
       "      <td>674</td>\n",
       "      <td>1336</td>\n",
       "      <td>1046</td>\n",
       "      <td>333</td>\n",
       "      <td>1101</td>\n",
       "      <td>802</td>\n",
       "    </tr>\n",
       "    <tr>\n",
       "      <th>Arunachal Pradesh</th>\n",
       "      <td>26</td>\n",
       "      <td>1021</td>\n",
       "      <td>168</td>\n",
       "      <td>0</td>\n",
       "      <td>26</td>\n",
       "      <td>67</td>\n",
       "      <td>257</td>\n",
       "      <td>0</td>\n",
       "      <td>343</td>\n",
       "      <td>637</td>\n",
       "    </tr>\n",
       "    <tr>\n",
       "      <th>Assam</th>\n",
       "      <td>0</td>\n",
       "      <td>2952</td>\n",
       "      <td>854</td>\n",
       "      <td>920</td>\n",
       "      <td>400</td>\n",
       "      <td>2234</td>\n",
       "      <td>1781</td>\n",
       "      <td>1284</td>\n",
       "      <td>2097</td>\n",
       "      <td>1338</td>\n",
       "    </tr>\n",
       "    <tr>\n",
       "      <th>Bihar</th>\n",
       "      <td>280</td>\n",
       "      <td>6108</td>\n",
       "      <td>756</td>\n",
       "      <td>226</td>\n",
       "      <td>130</td>\n",
       "      <td>3731</td>\n",
       "      <td>1775</td>\n",
       "      <td>924</td>\n",
       "      <td>2504</td>\n",
       "      <td>1396</td>\n",
       "    </tr>\n",
       "    <tr>\n",
       "      <th>Chandigarh</th>\n",
       "      <td>0</td>\n",
       "      <td>39</td>\n",
       "      <td>0</td>\n",
       "      <td>0</td>\n",
       "      <td>0</td>\n",
       "      <td>14</td>\n",
       "      <td>26</td>\n",
       "      <td>0</td>\n",
       "      <td>7</td>\n",
       "      <td>0</td>\n",
       "    </tr>\n",
       "    <tr>\n",
       "      <th>Chhattisgarh</th>\n",
       "      <td>646</td>\n",
       "      <td>1805</td>\n",
       "      <td>316</td>\n",
       "      <td>264</td>\n",
       "      <td>261</td>\n",
       "      <td>2087</td>\n",
       "      <td>1143</td>\n",
       "      <td>535</td>\n",
       "      <td>1496</td>\n",
       "      <td>1288</td>\n",
       "    </tr>\n",
       "    <tr>\n",
       "      <th>Dadra and Nagar Haveli</th>\n",
       "      <td>0</td>\n",
       "      <td>116</td>\n",
       "      <td>12</td>\n",
       "      <td>9</td>\n",
       "      <td>9</td>\n",
       "      <td>64</td>\n",
       "      <td>0</td>\n",
       "      <td>13</td>\n",
       "      <td>30</td>\n",
       "      <td>1</td>\n",
       "    </tr>\n",
       "    <tr>\n",
       "      <th>Goa</th>\n",
       "      <td>0</td>\n",
       "      <td>62</td>\n",
       "      <td>22</td>\n",
       "      <td>16</td>\n",
       "      <td>47</td>\n",
       "      <td>32</td>\n",
       "      <td>0</td>\n",
       "      <td>0</td>\n",
       "      <td>0</td>\n",
       "      <td>12</td>\n",
       "    </tr>\n",
       "    <tr>\n",
       "      <th>Gujarat</th>\n",
       "      <td>403</td>\n",
       "      <td>2466</td>\n",
       "      <td>372</td>\n",
       "      <td>157</td>\n",
       "      <td>683</td>\n",
       "      <td>1521</td>\n",
       "      <td>473</td>\n",
       "      <td>327</td>\n",
       "      <td>1029</td>\n",
       "      <td>512</td>\n",
       "    </tr>\n",
       "    <tr>\n",
       "      <th>Haryana</th>\n",
       "      <td>108</td>\n",
       "      <td>1427</td>\n",
       "      <td>259</td>\n",
       "      <td>52</td>\n",
       "      <td>126</td>\n",
       "      <td>860</td>\n",
       "      <td>463</td>\n",
       "      <td>257</td>\n",
       "      <td>543</td>\n",
       "      <td>248</td>\n",
       "    </tr>\n",
       "    <tr>\n",
       "      <th>Himachal Pradesh</th>\n",
       "      <td>179</td>\n",
       "      <td>726</td>\n",
       "      <td>67</td>\n",
       "      <td>0</td>\n",
       "      <td>54</td>\n",
       "      <td>530</td>\n",
       "      <td>214</td>\n",
       "      <td>37</td>\n",
       "      <td>236</td>\n",
       "      <td>345</td>\n",
       "    </tr>\n",
       "    <tr>\n",
       "      <th>Jammu and Kashmir</th>\n",
       "      <td>12</td>\n",
       "      <td>562</td>\n",
       "      <td>42</td>\n",
       "      <td>24</td>\n",
       "      <td>7</td>\n",
       "      <td>307</td>\n",
       "      <td>196</td>\n",
       "      <td>44</td>\n",
       "      <td>233</td>\n",
       "      <td>115</td>\n",
       "    </tr>\n",
       "    <tr>\n",
       "      <th>Jharkhand</th>\n",
       "      <td>0</td>\n",
       "      <td>575</td>\n",
       "      <td>16</td>\n",
       "      <td>0</td>\n",
       "      <td>0</td>\n",
       "      <td>304</td>\n",
       "      <td>247</td>\n",
       "      <td>0</td>\n",
       "      <td>124</td>\n",
       "      <td>0</td>\n",
       "    </tr>\n",
       "    <tr>\n",
       "      <th>Karnataka</th>\n",
       "      <td>1096</td>\n",
       "      <td>5295</td>\n",
       "      <td>615</td>\n",
       "      <td>598</td>\n",
       "      <td>1470</td>\n",
       "      <td>2776</td>\n",
       "      <td>1763</td>\n",
       "      <td>605</td>\n",
       "      <td>3135</td>\n",
       "      <td>2588</td>\n",
       "    </tr>\n",
       "    <tr>\n",
       "      <th>Kerala</th>\n",
       "      <td>3</td>\n",
       "      <td>819</td>\n",
       "      <td>236</td>\n",
       "      <td>437</td>\n",
       "      <td>536</td>\n",
       "      <td>13</td>\n",
       "      <td>636</td>\n",
       "      <td>12</td>\n",
       "      <td>168</td>\n",
       "      <td>863</td>\n",
       "    </tr>\n",
       "    <tr>\n",
       "      <th>Madhya Pradesh</th>\n",
       "      <td>962</td>\n",
       "      <td>5115</td>\n",
       "      <td>826</td>\n",
       "      <td>659</td>\n",
       "      <td>768</td>\n",
       "      <td>3993</td>\n",
       "      <td>2738</td>\n",
       "      <td>922</td>\n",
       "      <td>3281</td>\n",
       "      <td>2739</td>\n",
       "    </tr>\n",
       "    <tr>\n",
       "      <th>Maharashtra</th>\n",
       "      <td>477</td>\n",
       "      <td>4009</td>\n",
       "      <td>458</td>\n",
       "      <td>83</td>\n",
       "      <td>868</td>\n",
       "      <td>2326</td>\n",
       "      <td>56</td>\n",
       "      <td>465</td>\n",
       "      <td>3189</td>\n",
       "      <td>0</td>\n",
       "    </tr>\n",
       "    <tr>\n",
       "      <th>Manipur</th>\n",
       "      <td>31</td>\n",
       "      <td>151</td>\n",
       "      <td>40</td>\n",
       "      <td>228</td>\n",
       "      <td>4</td>\n",
       "      <td>160</td>\n",
       "      <td>347</td>\n",
       "      <td>12</td>\n",
       "      <td>49</td>\n",
       "      <td>226</td>\n",
       "    </tr>\n",
       "    <tr>\n",
       "      <th>Meghalaya</th>\n",
       "      <td>113</td>\n",
       "      <td>606</td>\n",
       "      <td>182</td>\n",
       "      <td>162</td>\n",
       "      <td>143</td>\n",
       "      <td>314</td>\n",
       "      <td>399</td>\n",
       "      <td>177</td>\n",
       "      <td>329</td>\n",
       "      <td>442</td>\n",
       "    </tr>\n",
       "    <tr>\n",
       "      <th>Mizoram</th>\n",
       "      <td>42</td>\n",
       "      <td>230</td>\n",
       "      <td>123</td>\n",
       "      <td>0</td>\n",
       "      <td>15</td>\n",
       "      <td>213</td>\n",
       "      <td>96</td>\n",
       "      <td>64</td>\n",
       "      <td>143</td>\n",
       "      <td>0</td>\n",
       "    </tr>\n",
       "    <tr>\n",
       "      <th>Nagaland</th>\n",
       "      <td>211</td>\n",
       "      <td>1054</td>\n",
       "      <td>160</td>\n",
       "      <td>0</td>\n",
       "      <td>144</td>\n",
       "      <td>873</td>\n",
       "      <td>302</td>\n",
       "      <td>197</td>\n",
       "      <td>718</td>\n",
       "      <td>131</td>\n",
       "    </tr>\n",
       "    <tr>\n",
       "      <th>Odisha</th>\n",
       "      <td>629</td>\n",
       "      <td>3871</td>\n",
       "      <td>607</td>\n",
       "      <td>0</td>\n",
       "      <td>1156</td>\n",
       "      <td>1760</td>\n",
       "      <td>909</td>\n",
       "      <td>284</td>\n",
       "      <td>2335</td>\n",
       "      <td>912</td>\n",
       "    </tr>\n",
       "    <tr>\n",
       "      <th>Puducherry</th>\n",
       "      <td>0</td>\n",
       "      <td>198</td>\n",
       "      <td>30</td>\n",
       "      <td>73</td>\n",
       "      <td>98</td>\n",
       "      <td>101</td>\n",
       "      <td>84</td>\n",
       "      <td>33</td>\n",
       "      <td>51</td>\n",
       "      <td>89</td>\n",
       "    </tr>\n",
       "    <tr>\n",
       "      <th>Punjab</th>\n",
       "      <td>104</td>\n",
       "      <td>1123</td>\n",
       "      <td>216</td>\n",
       "      <td>0</td>\n",
       "      <td>75</td>\n",
       "      <td>728</td>\n",
       "      <td>0</td>\n",
       "      <td>186</td>\n",
       "      <td>496</td>\n",
       "      <td>0</td>\n",
       "    </tr>\n",
       "    <tr>\n",
       "      <th>Rajasthan</th>\n",
       "      <td>871</td>\n",
       "      <td>2634</td>\n",
       "      <td>518</td>\n",
       "      <td>257</td>\n",
       "      <td>444</td>\n",
       "      <td>2174</td>\n",
       "      <td>1048</td>\n",
       "      <td>672</td>\n",
       "      <td>1713</td>\n",
       "      <td>1256</td>\n",
       "    </tr>\n",
       "    <tr>\n",
       "      <th>Sikkim</th>\n",
       "      <td>72</td>\n",
       "      <td>391</td>\n",
       "      <td>0</td>\n",
       "      <td>8</td>\n",
       "      <td>0</td>\n",
       "      <td>136</td>\n",
       "      <td>8</td>\n",
       "      <td>0</td>\n",
       "      <td>91</td>\n",
       "      <td>0</td>\n",
       "    </tr>\n",
       "    <tr>\n",
       "      <th>Tamil Nadu</th>\n",
       "      <td>479</td>\n",
       "      <td>2680</td>\n",
       "      <td>623</td>\n",
       "      <td>992</td>\n",
       "      <td>1076</td>\n",
       "      <td>1466</td>\n",
       "      <td>1827</td>\n",
       "      <td>556</td>\n",
       "      <td>1235</td>\n",
       "      <td>1442</td>\n",
       "    </tr>\n",
       "    <tr>\n",
       "      <th>Telangana</th>\n",
       "      <td>259</td>\n",
       "      <td>1365</td>\n",
       "      <td>250</td>\n",
       "      <td>201</td>\n",
       "      <td>338</td>\n",
       "      <td>882</td>\n",
       "      <td>416</td>\n",
       "      <td>191</td>\n",
       "      <td>774</td>\n",
       "      <td>576</td>\n",
       "    </tr>\n",
       "    <tr>\n",
       "      <th>Tripura</th>\n",
       "      <td>0</td>\n",
       "      <td>240</td>\n",
       "      <td>80</td>\n",
       "      <td>0</td>\n",
       "      <td>119</td>\n",
       "      <td>469</td>\n",
       "      <td>20</td>\n",
       "      <td>220</td>\n",
       "      <td>144</td>\n",
       "      <td>0</td>\n",
       "    </tr>\n",
       "    <tr>\n",
       "      <th>Uttar Pradesh</th>\n",
       "      <td>1112</td>\n",
       "      <td>9719</td>\n",
       "      <td>1741</td>\n",
       "      <td>269</td>\n",
       "      <td>958</td>\n",
       "      <td>6549</td>\n",
       "      <td>3734</td>\n",
       "      <td>724</td>\n",
       "      <td>4028</td>\n",
       "      <td>2529</td>\n",
       "    </tr>\n",
       "    <tr>\n",
       "      <th>Uttarakhand</th>\n",
       "      <td>360</td>\n",
       "      <td>1423</td>\n",
       "      <td>127</td>\n",
       "      <td>0</td>\n",
       "      <td>76</td>\n",
       "      <td>1236</td>\n",
       "      <td>511</td>\n",
       "      <td>1</td>\n",
       "      <td>626</td>\n",
       "      <td>407</td>\n",
       "    </tr>\n",
       "    <tr>\n",
       "      <th>West Bengal</th>\n",
       "      <td>254</td>\n",
       "      <td>2217</td>\n",
       "      <td>356</td>\n",
       "      <td>0</td>\n",
       "      <td>730</td>\n",
       "      <td>1633</td>\n",
       "      <td>619</td>\n",
       "      <td>710</td>\n",
       "      <td>1542</td>\n",
       "      <td>692</td>\n",
       "    </tr>\n",
       "  </tbody>\n",
       "</table>\n",
       "</div>"
      ],
      "text/plain": [
       "cat_crop                     Beans  Cereal  Commercial  Fruits  Nuts  Pulses  \\\n",
       "State_Name                                                                     \n",
       "Andaman and Nicobar Islands      0      20          15      16    37       9   \n",
       "Andhra Pradesh                 386    2264         474     502   674    1336   \n",
       "Arunachal Pradesh               26    1021         168       0    26      67   \n",
       "Assam                            0    2952         854     920   400    2234   \n",
       "Bihar                          280    6108         756     226   130    3731   \n",
       "Chandigarh                       0      39           0       0     0      14   \n",
       "Chhattisgarh                   646    1805         316     264   261    2087   \n",
       "Dadra and Nagar Haveli           0     116          12       9     9      64   \n",
       "Goa                              0      62          22      16    47      32   \n",
       "Gujarat                        403    2466         372     157   683    1521   \n",
       "Haryana                        108    1427         259      52   126     860   \n",
       "Himachal Pradesh               179     726          67       0    54     530   \n",
       "Jammu and Kashmir               12     562          42      24     7     307   \n",
       "Jharkhand                        0     575          16       0     0     304   \n",
       "Karnataka                     1096    5295         615     598  1470    2776   \n",
       "Kerala                           3     819         236     437   536      13   \n",
       "Madhya Pradesh                 962    5115         826     659   768    3993   \n",
       "Maharashtra                    477    4009         458      83   868    2326   \n",
       "Manipur                         31     151          40     228     4     160   \n",
       "Meghalaya                      113     606         182     162   143     314   \n",
       "Mizoram                         42     230         123       0    15     213   \n",
       "Nagaland                       211    1054         160       0   144     873   \n",
       "Odisha                         629    3871         607       0  1156    1760   \n",
       "Puducherry                       0     198          30      73    98     101   \n",
       "Punjab                         104    1123         216       0    75     728   \n",
       "Rajasthan                      871    2634         518     257   444    2174   \n",
       "Sikkim                          72     391           0       8     0     136   \n",
       "Tamil Nadu                     479    2680         623     992  1076    1466   \n",
       "Telangana                      259    1365         250     201   338     882   \n",
       "Tripura                          0     240          80       0   119     469   \n",
       "Uttar Pradesh                 1112    9719        1741     269   958    6549   \n",
       "Uttarakhand                    360    1423         127       0    76    1236   \n",
       "West Bengal                    254    2217         356       0   730    1633   \n",
       "\n",
       "cat_crop                     Vegetables  fibres  oilseeds  spices  \n",
       "State_Name                                                         \n",
       "Andaman and Nicobar Islands          20       0        11      52  \n",
       "Andhra Pradesh                     1046     333      1101     802  \n",
       "Arunachal Pradesh                   257       0       343     637  \n",
       "Assam                              1781    1284      2097    1338  \n",
       "Bihar                              1775     924      2504    1396  \n",
       "Chandigarh                           26       0         7       0  \n",
       "Chhattisgarh                       1143     535      1496    1288  \n",
       "Dadra and Nagar Haveli                0      13        30       1  \n",
       "Goa                                   0       0         0      12  \n",
       "Gujarat                             473     327      1029     512  \n",
       "Haryana                             463     257       543     248  \n",
       "Himachal Pradesh                    214      37       236     345  \n",
       "Jammu and Kashmir                   196      44       233     115  \n",
       "Jharkhand                           247       0       124       0  \n",
       "Karnataka                          1763     605      3135    2588  \n",
       "Kerala                              636      12       168     863  \n",
       "Madhya Pradesh                     2738     922      3281    2739  \n",
       "Maharashtra                          56     465      3189       0  \n",
       "Manipur                             347      12        49     226  \n",
       "Meghalaya                           399     177       329     442  \n",
       "Mizoram                              96      64       143       0  \n",
       "Nagaland                            302     197       718     131  \n",
       "Odisha                              909     284      2335     912  \n",
       "Puducherry                           84      33        51      89  \n",
       "Punjab                                0     186       496       0  \n",
       "Rajasthan                          1048     672      1713    1256  \n",
       "Sikkim                                8       0        91       0  \n",
       "Tamil Nadu                         1827     556      1235    1442  \n",
       "Telangana                           416     191       774     576  \n",
       "Tripura                              20     220       144       0  \n",
       "Uttar Pradesh                      3734     724      4028    2529  \n",
       "Uttarakhand                         511       1       626     407  \n",
       "West Bengal                         619     710      1542     692  "
      ]
     },
     "execution_count": 35,
     "metadata": {},
     "output_type": "execute_result"
    }
   ],
   "source": [
    "df_2 = pd.crosstab(df['State_Name'], df['cat_crop'])\n",
    "df_2"
   ]
  },
  {
   "cell_type": "code",
   "execution_count": 36,
   "id": "78714e0f",
   "metadata": {},
   "outputs": [
    {
     "data": {
      "text/plain": [
       "<AxesSubplot:xlabel='State_Name'>"
      ]
     },
     "execution_count": 36,
     "metadata": {},
     "output_type": "execute_result"
    },
    {
     "data": {
      "image/png": "[encoded data removed]",
      "text/plain": [
       "<Figure size 1152x576 with 1 Axes>"
      ]
     },
     "metadata": {
      "needs_background": "light"
     },
     "output_type": "display_data"
    }
   ],
   "source": [
    "df_2.plot(kind='bar', stacked=True, figsize = (16,8))"
   ]
  },
  {
   "cell_type": "markdown",
   "id": "9bb28a95",
   "metadata": {},
   "source": [
    "Uttar Pradesh  producing more crop categories than any other Indian state"
   ]
  },
  {
   "cell_type": "code",
   "execution_count": 37,
   "id": "0d2565c3",
   "metadata": {},
   "outputs": [
    {
     "data": {
      "text/plain": [
       "Rice                 15082\n",
       "Maize                13787\n",
       "Moong(Green Gram)    10106\n",
       "Urad                  9710\n",
       "Sesamum               8821\n",
       "                     ...  \n",
       "Litchi                   6\n",
       "Coffee                   6\n",
       "Apple                    4\n",
       "Peach                    4\n",
       "Other Dry Fruit          1\n",
       "Name: Crop, Length: 124, dtype: int64"
      ]
     },
     "execution_count": 37,
     "metadata": {},
     "output_type": "execute_result"
    }
   ],
   "source": [
    "df[\"Crop\"].value_counts()[:]"
   ]
  },
  {
   "cell_type": "markdown",
   "id": "fa5c5a48",
   "metadata": {},
   "source": [
    "# Rice"
   ]
  },
  {
   "cell_type": "code",
   "execution_count": 38,
   "id": "ad0d7550",
   "metadata": {},
   "outputs": [
    {
     "name": "stdout",
     "output_type": "stream",
     "text": [
      "(15082, 9)\n"
     ]
    },
    {
     "data": {
      "text/html": [
       "<div>\n",
       "<style scoped>\n",
       "    .dataframe tbody tr th:only-of-type {\n",
       "        vertical-align: middle;\n",
       "    }\n",
       "\n",
       "    .dataframe tbody tr th {\n",
       "        vertical-align: top;\n",
       "    }\n",
       "\n",
       "    .dataframe thead th {\n",
       "        text-align: right;\n",
       "    }\n",
       "</style>\n",
       "<table border=\"1\" class=\"dataframe\">\n",
       "  <thead>\n",
       "    <tr style=\"text-align: right;\">\n",
       "      <th></th>\n",
       "      <th>State_Name</th>\n",
       "      <th>District_Name</th>\n",
       "      <th>Crop_Year</th>\n",
       "      <th>Season</th>\n",
       "      <th>Crop</th>\n",
       "      <th>Area</th>\n",
       "      <th>Production</th>\n",
       "      <th>Zones</th>\n",
       "      <th>cat_crop</th>\n",
       "    </tr>\n",
       "  </thead>\n",
       "  <tbody>\n",
       "    <tr>\n",
       "      <th>2</th>\n",
       "      <td>Andaman and Nicobar Islands</td>\n",
       "      <td>NICOBARS</td>\n",
       "      <td>2000</td>\n",
       "      <td>Kharif</td>\n",
       "      <td>Rice</td>\n",
       "      <td>102.00</td>\n",
       "      <td>321.00</td>\n",
       "      <td>Union Terr</td>\n",
       "      <td>Cereal</td>\n",
       "    </tr>\n",
       "    <tr>\n",
       "      <th>12</th>\n",
       "      <td>Andaman and Nicobar Islands</td>\n",
       "      <td>NICOBARS</td>\n",
       "      <td>2001</td>\n",
       "      <td>Kharif</td>\n",
       "      <td>Rice</td>\n",
       "      <td>83.00</td>\n",
       "      <td>300.00</td>\n",
       "      <td>Union Terr</td>\n",
       "      <td>Cereal</td>\n",
       "    </tr>\n",
       "    <tr>\n",
       "      <th>18</th>\n",
       "      <td>Andaman and Nicobar Islands</td>\n",
       "      <td>NICOBARS</td>\n",
       "      <td>2002</td>\n",
       "      <td>Kharif</td>\n",
       "      <td>Rice</td>\n",
       "      <td>189.20</td>\n",
       "      <td>510.84</td>\n",
       "      <td>Union Terr</td>\n",
       "      <td>Cereal</td>\n",
       "    </tr>\n",
       "    <tr>\n",
       "      <th>27</th>\n",
       "      <td>Andaman and Nicobar Islands</td>\n",
       "      <td>NICOBARS</td>\n",
       "      <td>2003</td>\n",
       "      <td>Kharif</td>\n",
       "      <td>Rice</td>\n",
       "      <td>52.00</td>\n",
       "      <td>90.17</td>\n",
       "      <td>Union Terr</td>\n",
       "      <td>Cereal</td>\n",
       "    </tr>\n",
       "    <tr>\n",
       "      <th>36</th>\n",
       "      <td>Andaman and Nicobar Islands</td>\n",
       "      <td>NICOBARS</td>\n",
       "      <td>2004</td>\n",
       "      <td>Kharif</td>\n",
       "      <td>Rice</td>\n",
       "      <td>52.94</td>\n",
       "      <td>72.57</td>\n",
       "      <td>Union Terr</td>\n",
       "      <td>Cereal</td>\n",
       "    </tr>\n",
       "    <tr>\n",
       "      <th>45</th>\n",
       "      <td>Andaman and Nicobar Islands</td>\n",
       "      <td>NICOBARS</td>\n",
       "      <td>2005</td>\n",
       "      <td>Kharif</td>\n",
       "      <td>Rice</td>\n",
       "      <td>2.09</td>\n",
       "      <td>12.06</td>\n",
       "      <td>Union Terr</td>\n",
       "      <td>Cereal</td>\n",
       "    </tr>\n",
       "    <tr>\n",
       "      <th>64</th>\n",
       "      <td>Andaman and Nicobar Islands</td>\n",
       "      <td>NICOBARS</td>\n",
       "      <td>2010</td>\n",
       "      <td>Autumn</td>\n",
       "      <td>Rice</td>\n",
       "      <td>3.50</td>\n",
       "      <td>10.00</td>\n",
       "      <td>Union Terr</td>\n",
       "      <td>Cereal</td>\n",
       "    </tr>\n",
       "    <tr>\n",
       "      <th>81</th>\n",
       "      <td>Andaman and Nicobar Islands</td>\n",
       "      <td>NORTH AND MIDDLE ANDAMAN</td>\n",
       "      <td>2000</td>\n",
       "      <td>Kharif</td>\n",
       "      <td>Rice</td>\n",
       "      <td>10779.00</td>\n",
       "      <td>31863.00</td>\n",
       "      <td>Union Terr</td>\n",
       "      <td>Cereal</td>\n",
       "    </tr>\n",
       "    <tr>\n",
       "      <th>92</th>\n",
       "      <td>Andaman and Nicobar Islands</td>\n",
       "      <td>NORTH AND MIDDLE ANDAMAN</td>\n",
       "      <td>2001</td>\n",
       "      <td>Kharif</td>\n",
       "      <td>Rice</td>\n",
       "      <td>9718.00</td>\n",
       "      <td>27033.00</td>\n",
       "      <td>Union Terr</td>\n",
       "      <td>Cereal</td>\n",
       "    </tr>\n",
       "    <tr>\n",
       "      <th>98</th>\n",
       "      <td>Andaman and Nicobar Islands</td>\n",
       "      <td>NORTH AND MIDDLE ANDAMAN</td>\n",
       "      <td>2006</td>\n",
       "      <td>Kharif</td>\n",
       "      <td>Rice</td>\n",
       "      <td>6854.30</td>\n",
       "      <td>18995.62</td>\n",
       "      <td>Union Terr</td>\n",
       "      <td>Cereal</td>\n",
       "    </tr>\n",
       "  </tbody>\n",
       "</table>\n",
       "</div>"
      ],
      "text/plain": [
       "                     State_Name             District_Name  Crop_Year  \\\n",
       "2   Andaman and Nicobar Islands                  NICOBARS       2000   \n",
       "12  Andaman and Nicobar Islands                  NICOBARS       2001   \n",
       "18  Andaman and Nicobar Islands                  NICOBARS       2002   \n",
       "27  Andaman and Nicobar Islands                  NICOBARS       2003   \n",
       "36  Andaman and Nicobar Islands                  NICOBARS       2004   \n",
       "45  Andaman and Nicobar Islands                  NICOBARS       2005   \n",
       "64  Andaman and Nicobar Islands                  NICOBARS       2010   \n",
       "81  Andaman and Nicobar Islands  NORTH AND MIDDLE ANDAMAN       2000   \n",
       "92  Andaman and Nicobar Islands  NORTH AND MIDDLE ANDAMAN       2001   \n",
       "98  Andaman and Nicobar Islands  NORTH AND MIDDLE ANDAMAN       2006   \n",
       "\n",
       "         Season  Crop      Area  Production       Zones cat_crop  \n",
       "2   Kharif       Rice    102.00      321.00  Union Terr   Cereal  \n",
       "12  Kharif       Rice     83.00      300.00  Union Terr   Cereal  \n",
       "18  Kharif       Rice    189.20      510.84  Union Terr   Cereal  \n",
       "27  Kharif       Rice     52.00       90.17  Union Terr   Cereal  \n",
       "36  Kharif       Rice     52.94       72.57  Union Terr   Cereal  \n",
       "45  Kharif       Rice      2.09       12.06  Union Terr   Cereal  \n",
       "64  Autumn       Rice      3.50       10.00  Union Terr   Cereal  \n",
       "81  Kharif       Rice  10779.00    31863.00  Union Terr   Cereal  \n",
       "92  Kharif       Rice   9718.00    27033.00  Union Terr   Cereal  \n",
       "98  Kharif       Rice   6854.30    18995.62  Union Terr   Cereal  "
      ]
     },
     "execution_count": 38,
     "metadata": {},
     "output_type": "execute_result"
    }
   ],
   "source": [
    "Rice_df = df[df[\"Crop\"]==\"Rice\"]\n",
    "print(Rice_df.shape)\n",
    "Rice_df[:10]"
   ]
  },
  {
   "cell_type": "code",
   "execution_count": 39,
   "id": "8db6f16f",
   "metadata": {},
   "outputs": [
    {
     "name": "stderr",
     "output_type": "stream",
     "text": [
      "C:\\Users\\Manis\\anaconda3\\lib\\site-packages\\seaborn\\_decorators.py:36: FutureWarning: Pass the following variables as keyword args: x, y. From version 0.12, the only valid positional argument will be `data`, and passing other arguments without an explicit keyword will result in an error or misinterpretation.\n",
      "  warnings.warn(\n"
     ]
    },
    {
     "data": {
      "text/plain": [
       "<AxesSubplot:xlabel='Season', ylabel='Production'>"
      ]
     },
     "execution_count": 39,
     "metadata": {},
     "output_type": "execute_result"
    },
    {
     "data": {
      "image/png": "[encoded data removed]",
      "text/plain": [
       "<Figure size 432x288 with 1 Axes>"
      ]
     },
     "metadata": {
      "needs_background": "light"
     },
     "output_type": "display_data"
    }
   ],
   "source": [
    "sns.barplot(\"Season\",\"Production\",data=Rice_df)"
   ]
  },
  {
   "cell_type": "markdown",
   "id": "c5407ca8",
   "metadata": {},
   "source": [
    "It shows that rice needs winter to grow "
   ]
  },
  {
   "cell_type": "code",
   "execution_count": 40,
   "id": "3c0aa8ad",
   "metadata": {
    "scrolled": true
   },
   "outputs": [
    {
     "data": {
      "text/html": [
       "<div>\n",
       "<style scoped>\n",
       "    .dataframe tbody tr th:only-of-type {\n",
       "        vertical-align: middle;\n",
       "    }\n",
       "\n",
       "    .dataframe tbody tr th {\n",
       "        vertical-align: top;\n",
       "    }\n",
       "\n",
       "    .dataframe thead th {\n",
       "        text-align: right;\n",
       "    }\n",
       "</style>\n",
       "<table border=\"1\" class=\"dataframe\">\n",
       "  <thead>\n",
       "    <tr style=\"text-align: right;\">\n",
       "      <th></th>\n",
       "      <th>District_Name</th>\n",
       "      <th>Production</th>\n",
       "      <th>precent_of_pro</th>\n",
       "    </tr>\n",
       "  </thead>\n",
       "  <tbody>\n",
       "    <tr>\n",
       "      <th>58</th>\n",
       "      <td>BARDHAMAN</td>\n",
       "      <td>34239976.0</td>\n",
       "      <td>2.132707</td>\n",
       "    </tr>\n",
       "    <tr>\n",
       "      <th>374</th>\n",
       "      <td>MEDINIPUR WEST</td>\n",
       "      <td>29192719.0</td>\n",
       "      <td>1.818328</td>\n",
       "    </tr>\n",
       "    <tr>\n",
       "      <th>612</th>\n",
       "      <td>WEST GODAVARI</td>\n",
       "      <td>27845309.0</td>\n",
       "      <td>1.734402</td>\n",
       "    </tr>\n",
       "    <tr>\n",
       "      <th>169</th>\n",
       "      <td>EAST GODAVARI</td>\n",
       "      <td>24690929.0</td>\n",
       "      <td>1.537925</td>\n",
       "    </tr>\n",
       "    <tr>\n",
       "      <th>494</th>\n",
       "      <td>SANGRUR</td>\n",
       "      <td>24448000.0</td>\n",
       "      <td>1.522794</td>\n",
       "    </tr>\n",
       "    <tr>\n",
       "      <th>325</th>\n",
       "      <td>KRISHNA</td>\n",
       "      <td>20280606.0</td>\n",
       "      <td>1.263219</td>\n",
       "    </tr>\n",
       "    <tr>\n",
       "      <th>90</th>\n",
       "      <td>BIRBHUM</td>\n",
       "      <td>19753571.0</td>\n",
       "      <td>1.230391</td>\n",
       "    </tr>\n",
       "    <tr>\n",
       "      <th>347</th>\n",
       "      <td>LUDHIANA</td>\n",
       "      <td>18950000.0</td>\n",
       "      <td>1.180339</td>\n",
       "    </tr>\n",
       "    <tr>\n",
       "      <th>386</th>\n",
       "      <td>MURSHIDABAD</td>\n",
       "      <td>18403217.0</td>\n",
       "      <td>1.146282</td>\n",
       "    </tr>\n",
       "    <tr>\n",
       "      <th>214</th>\n",
       "      <td>GUNTUR</td>\n",
       "      <td>18245831.0</td>\n",
       "      <td>1.136479</td>\n",
       "    </tr>\n",
       "    <tr>\n",
       "      <th>53</th>\n",
       "      <td>BANKURA</td>\n",
       "      <td>18140197.0</td>\n",
       "      <td>1.129899</td>\n",
       "    </tr>\n",
       "    <tr>\n",
       "      <th>373</th>\n",
       "      <td>MEDINIPUR EAST</td>\n",
       "      <td>17138116.0</td>\n",
       "      <td>1.067483</td>\n",
       "    </tr>\n",
       "    <tr>\n",
       "      <th>435</th>\n",
       "      <td>PATIALA</td>\n",
       "      <td>16446000.0</td>\n",
       "      <td>1.024373</td>\n",
       "    </tr>\n",
       "    <tr>\n",
       "      <th>188</th>\n",
       "      <td>FIROZEPUR</td>\n",
       "      <td>16281000.0</td>\n",
       "      <td>1.014095</td>\n",
       "    </tr>\n",
       "    <tr>\n",
       "      <th>1</th>\n",
       "      <td>24 PARAGANAS SOUTH</td>\n",
       "      <td>15962222.0</td>\n",
       "      <td>0.994240</td>\n",
       "    </tr>\n",
       "  </tbody>\n",
       "</table>\n",
       "</div>"
      ],
      "text/plain": [
       "          District_Name  Production  precent_of_pro\n",
       "58            BARDHAMAN  34239976.0        2.132707\n",
       "374      MEDINIPUR WEST  29192719.0        1.818328\n",
       "612       WEST GODAVARI  27845309.0        1.734402\n",
       "169       EAST GODAVARI  24690929.0        1.537925\n",
       "494             SANGRUR  24448000.0        1.522794\n",
       "325             KRISHNA  20280606.0        1.263219\n",
       "90              BIRBHUM  19753571.0        1.230391\n",
       "347            LUDHIANA  18950000.0        1.180339\n",
       "386         MURSHIDABAD  18403217.0        1.146282\n",
       "214              GUNTUR  18245831.0        1.136479\n",
       "53              BANKURA  18140197.0        1.129899\n",
       "373      MEDINIPUR EAST  17138116.0        1.067483\n",
       "435             PATIALA  16446000.0        1.024373\n",
       "188           FIROZEPUR  16281000.0        1.014095\n",
       "1    24 PARAGANAS SOUTH  15962222.0        0.994240"
      ]
     },
     "execution_count": 40,
     "metadata": {},
     "output_type": "execute_result"
    }
   ],
   "source": [
    "top_rice_pro_dis = Rice_df.groupby(\"District_Name\")[\"Production\"].sum().reset_index().sort_values(\n",
    "    by='Production',ascending=False)\n",
    "top_rice_pro_dis[:10]\n",
    "sum_max = top_rice_pro_dis[\"Production\"].sum()\n",
    "top_rice_pro_dis[\"precent_of_pro\"] = top_rice_pro_dis[\"Production\"].map(lambda x:(x/sum_max)*100)\n",
    "top_rice_pro_dis[:15]\n"
   ]
  },
  {
   "cell_type": "code",
   "execution_count": 41,
   "id": "30d9bde8",
   "metadata": {},
   "outputs": [
    {
     "name": "stderr",
     "output_type": "stream",
     "text": [
      "C:\\Users\\Manis\\anaconda3\\lib\\site-packages\\seaborn\\_decorators.py:36: FutureWarning: Pass the following variables as keyword args: x, y. From version 0.12, the only valid positional argument will be `data`, and passing other arguments without an explicit keyword will result in an error or misinterpretation.\n",
      "  warnings.warn(\n"
     ]
    },
    {
     "data": {
      "image/png": "[encoded data removed]",
      "text/plain": [
       "<Figure size 864x432 with 1 Axes>"
      ]
     },
     "metadata": {
      "needs_background": "light"
     },
     "output_type": "display_data"
    }
   ],
   "source": [
    "plt.figure(figsize=(12,6))\n",
    "sns.barplot(\"District_Name\",\"Production\",data=top_rice_pro_dis[:10])\n",
    "plt.xticks(rotation=90)\n",
    "plt.show()\n"
   ]
  },
  {
   "cell_type": "markdown",
   "id": "ff5ccdb7",
   "metadata": {},
   "source": [
    "District wise its BARDHAMAN, MEDINIPUR WEST and WEST GODAVARI which contributes to total rice production"
   ]
  },
  {
   "cell_type": "code",
   "execution_count": 42,
   "id": "569257ee",
   "metadata": {},
   "outputs": [
    {
     "name": "stderr",
     "output_type": "stream",
     "text": [
      "C:\\Users\\Manis\\anaconda3\\lib\\site-packages\\seaborn\\_decorators.py:36: FutureWarning: Pass the following variables as keyword args: x, y. From version 0.12, the only valid positional argument will be `data`, and passing other arguments without an explicit keyword will result in an error or misinterpretation.\n",
      "  warnings.warn(\n"
     ]
    },
    {
     "data": {
      "image/png": "[encoded data removed]",
      "text/plain": [
       "<Figure size 720x360 with 1 Axes>"
      ]
     },
     "metadata": {
      "needs_background": "light"
     },
     "output_type": "display_data"
    }
   ],
   "source": [
    "plt.figure(figsize=(10,5))\n",
    "sns.barplot(\"Crop_Year\",\"Production\",data=Rice_df)\n",
    "plt.xticks(rotation=45)\n",
    "plt.show()"
   ]
  },
  {
   "cell_type": "markdown",
   "id": "50fda93f",
   "metadata": {},
   "source": [
    "There is highest production in 2014"
   ]
  },
  {
   "cell_type": "code",
   "execution_count": 43,
   "id": "7eee1cfb",
   "metadata": {},
   "outputs": [
    {
     "name": "stderr",
     "output_type": "stream",
     "text": [
      "C:\\Users\\Manis\\anaconda3\\lib\\site-packages\\seaborn\\_decorators.py:36: FutureWarning: Pass the following variables as keyword args: x, y. From version 0.12, the only valid positional argument will be `data`, and passing other arguments without an explicit keyword will result in an error or misinterpretation.\n",
      "  warnings.warn(\n"
     ]
    },
    {
     "data": {
      "image/png": "[encoded data removed]",
      "text/plain": [
       "<Figure size 1296x504 with 1 Axes>"
      ]
     },
     "metadata": {
      "needs_background": "light"
     },
     "output_type": "display_data"
    }
   ],
   "source": [
    "plt.figure(figsize=(18,7))\n",
    "sns.barplot(\"State_Name\",\"Production\",data=Rice_df)\n",
    "plt.xticks(rotation=90)\n",
    "plt.show()"
   ]
  },
  {
   "cell_type": "markdown",
   "id": "2a397112",
   "metadata": {},
   "source": [
    "Statewise Punjab dominates in rice production"
   ]
  },
  {
   "cell_type": "code",
   "execution_count": 44,
   "id": "7d9167e6",
   "metadata": {},
   "outputs": [
    {
     "name": "stderr",
     "output_type": "stream",
     "text": [
      "C:\\Users\\Manis\\anaconda3\\lib\\site-packages\\seaborn\\_decorators.py:36: FutureWarning: Pass the following variables as keyword args: x, y. From version 0.12, the only valid positional argument will be `data`, and passing other arguments without an explicit keyword will result in an error or misinterpretation.\n",
      "  warnings.warn(\n"
     ]
    },
    {
     "data": {
      "text/plain": [
       "<seaborn.axisgrid.JointGrid at 0x22beeeb9bb0>"
      ]
     },
     "execution_count": 44,
     "metadata": {},
     "output_type": "execute_result"
    },
    {
     "data": {
      "image/png": "[encoded data removed]",
      "text/plain": [
       "<Figure size 432x432 with 3 Axes>"
      ]
     },
     "metadata": {
      "needs_background": "light"
     },
     "output_type": "display_data"
    }
   ],
   "source": [
    "sns.jointplot(\"Area\",\"Production\",data=Rice_df,kind=\"reg\")"
   ]
  },
  {
   "cell_type": "markdown",
   "id": "fe676abd",
   "metadata": {},
   "source": [
    "When we check the frequency of the crop it shows rice is grown heavily in India\n",
    "\n",
    "its shows the positive correlation as the area increase the production also increase"
   ]
  },
  {
   "cell_type": "markdown",
   "id": "39cc3ecf",
   "metadata": {},
   "source": [
    "# Coconut "
   ]
  },
  {
   "cell_type": "code",
   "execution_count": 45,
   "id": "28fb21bf",
   "metadata": {},
   "outputs": [
    {
     "name": "stdout",
     "output_type": "stream",
     "text": [
      "(1958, 9)\n"
     ]
    }
   ],
   "source": [
    "coco=df[df[\"Crop\"]==\"Coconut \"]\n",
    "\n",
    "print(coco.shape)"
   ]
  },
  {
   "cell_type": "code",
   "execution_count": 46,
   "id": "1e19a505",
   "metadata": {},
   "outputs": [
    {
     "data": {
      "text/plain": [
       "<AxesSubplot:xlabel='Season', ylabel='Production'>"
      ]
     },
     "execution_count": 46,
     "metadata": {},
     "output_type": "execute_result"
    },
    {
     "data": {
      "image/png": "[encoded data removed]",
      "text/plain": [
       "<Figure size 360x360 with 1 Axes>"
      ]
     },
     "metadata": {
      "needs_background": "light"
     },
     "output_type": "display_data"
    }
   ],
   "source": [
    "plt.figure(figsize=(5,5))\n",
    "sns.barplot(x='Season',y='Production',data=coco)"
   ]
  },
  {
   "cell_type": "markdown",
   "id": "b36a8cfe",
   "metadata": {},
   "source": [
    "The production of coconut is whole year"
   ]
  },
  {
   "cell_type": "code",
   "execution_count": 61,
   "id": "669130a1",
   "metadata": {},
   "outputs": [
    {
     "data": {
      "text/html": [
       "<div>\n",
       "<style scoped>\n",
       "    .dataframe tbody tr th:only-of-type {\n",
       "        vertical-align: middle;\n",
       "    }\n",
       "\n",
       "    .dataframe tbody tr th {\n",
       "        vertical-align: top;\n",
       "    }\n",
       "\n",
       "    .dataframe thead th {\n",
       "        text-align: right;\n",
       "    }\n",
       "</style>\n",
       "<table border=\"1\" class=\"dataframe\">\n",
       "  <thead>\n",
       "    <tr style=\"text-align: right;\">\n",
       "      <th></th>\n",
       "      <th>District_Name</th>\n",
       "      <th>Production</th>\n",
       "      <th>precent_of_pro</th>\n",
       "    </tr>\n",
       "  </thead>\n",
       "  <tbody>\n",
       "    <tr>\n",
       "      <th>77</th>\n",
       "      <td>KOZHIKODE</td>\n",
       "      <td>1.527871e+10</td>\n",
       "      <td>11.754512</td>\n",
       "    </tr>\n",
       "    <tr>\n",
       "      <th>86</th>\n",
       "      <td>MALAPPURAM</td>\n",
       "      <td>1.451252e+10</td>\n",
       "      <td>11.165052</td>\n",
       "    </tr>\n",
       "    <tr>\n",
       "      <th>129</th>\n",
       "      <td>THIRUVANANTHAPURAM</td>\n",
       "      <td>1.001337e+10</td>\n",
       "      <td>7.703678</td>\n",
       "    </tr>\n",
       "    <tr>\n",
       "      <th>131</th>\n",
       "      <td>THRISSUR</td>\n",
       "      <td>9.920739e+09</td>\n",
       "      <td>7.632416</td>\n",
       "    </tr>\n",
       "    <tr>\n",
       "      <th>64</th>\n",
       "      <td>KANNUR</td>\n",
       "      <td>9.780310e+09</td>\n",
       "      <td>7.524379</td>\n",
       "    </tr>\n",
       "    <tr>\n",
       "      <th>43</th>\n",
       "      <td>EAST GODAVARI</td>\n",
       "      <td>8.214998e+09</td>\n",
       "      <td>6.320122</td>\n",
       "    </tr>\n",
       "    <tr>\n",
       "      <th>69</th>\n",
       "      <td>KASARAGOD</td>\n",
       "      <td>7.730637e+09</td>\n",
       "      <td>5.947484</td>\n",
       "    </tr>\n",
       "    <tr>\n",
       "      <th>74</th>\n",
       "      <td>KOLLAM</td>\n",
       "      <td>7.140793e+09</td>\n",
       "      <td>5.493694</td>\n",
       "    </tr>\n",
       "    <tr>\n",
       "      <th>105</th>\n",
       "      <td>PALAKKAD</td>\n",
       "      <td>6.359585e+09</td>\n",
       "      <td>4.892680</td>\n",
       "    </tr>\n",
       "    <tr>\n",
       "      <th>44</th>\n",
       "      <td>ERNAKULAM</td>\n",
       "      <td>5.016205e+09</td>\n",
       "      <td>3.859165</td>\n",
       "    </tr>\n",
       "    <tr>\n",
       "      <th>3</th>\n",
       "      <td>ALAPPUZHA</td>\n",
       "      <td>4.797217e+09</td>\n",
       "      <td>3.690688</td>\n",
       "    </tr>\n",
       "    <tr>\n",
       "      <th>148</th>\n",
       "      <td>WEST GODAVARI</td>\n",
       "      <td>4.201577e+09</td>\n",
       "      <td>3.232439</td>\n",
       "    </tr>\n",
       "    <tr>\n",
       "      <th>76</th>\n",
       "      <td>KOTTAYAM</td>\n",
       "      <td>3.020029e+09</td>\n",
       "      <td>2.323428</td>\n",
       "    </tr>\n",
       "    <tr>\n",
       "      <th>26</th>\n",
       "      <td>COIMBATORE</td>\n",
       "      <td>2.478643e+09</td>\n",
       "      <td>1.906918</td>\n",
       "    </tr>\n",
       "    <tr>\n",
       "      <th>124</th>\n",
       "      <td>SRIKAKULAM</td>\n",
       "      <td>2.120553e+09</td>\n",
       "      <td>1.631425</td>\n",
       "    </tr>\n",
       "    <tr>\n",
       "      <th>106</th>\n",
       "      <td>PATHANAMTHITTA</td>\n",
       "      <td>1.965261e+09</td>\n",
       "      <td>1.511953</td>\n",
       "    </tr>\n",
       "    <tr>\n",
       "      <th>56</th>\n",
       "      <td>IDUKKI</td>\n",
       "      <td>1.512874e+09</td>\n",
       "      <td>1.163914</td>\n",
       "    </tr>\n",
       "    <tr>\n",
       "      <th>125</th>\n",
       "      <td>THANJAVUR</td>\n",
       "      <td>1.386123e+09</td>\n",
       "      <td>1.066399</td>\n",
       "    </tr>\n",
       "    <tr>\n",
       "      <th>135</th>\n",
       "      <td>TIRUPPUR</td>\n",
       "      <td>1.008185e+09</td>\n",
       "      <td>0.775636</td>\n",
       "    </tr>\n",
       "    <tr>\n",
       "      <th>145</th>\n",
       "      <td>VISAKHAPATANAM</td>\n",
       "      <td>9.662579e+08</td>\n",
       "      <td>0.743380</td>\n",
       "    </tr>\n",
       "  </tbody>\n",
       "</table>\n",
       "</div>"
      ],
      "text/plain": [
       "          District_Name    Production  precent_of_pro\n",
       "77            KOZHIKODE  1.527871e+10       11.754512\n",
       "86           MALAPPURAM  1.451252e+10       11.165052\n",
       "129  THIRUVANANTHAPURAM  1.001337e+10        7.703678\n",
       "131            THRISSUR  9.920739e+09        7.632416\n",
       "64               KANNUR  9.780310e+09        7.524379\n",
       "43        EAST GODAVARI  8.214998e+09        6.320122\n",
       "69            KASARAGOD  7.730637e+09        5.947484\n",
       "74               KOLLAM  7.140793e+09        5.493694\n",
       "105            PALAKKAD  6.359585e+09        4.892680\n",
       "44            ERNAKULAM  5.016205e+09        3.859165\n",
       "3             ALAPPUZHA  4.797217e+09        3.690688\n",
       "148       WEST GODAVARI  4.201577e+09        3.232439\n",
       "76             KOTTAYAM  3.020029e+09        2.323428\n",
       "26           COIMBATORE  2.478643e+09        1.906918\n",
       "124          SRIKAKULAM  2.120553e+09        1.631425\n",
       "106      PATHANAMTHITTA  1.965261e+09        1.511953\n",
       "56               IDUKKI  1.512874e+09        1.163914\n",
       "125           THANJAVUR  1.386123e+09        1.066399\n",
       "135            TIRUPPUR  1.008185e+09        0.775636\n",
       "145      VISAKHAPATANAM  9.662579e+08        0.743380"
      ]
     },
     "execution_count": 61,
     "metadata": {},
     "output_type": "execute_result"
    }
   ],
   "source": [
    "top_coco = coco.groupby(\"District_Name\")[\"Production\"].sum().reset_index().sort_values(\n",
    "    by='Production',ascending=False)\n",
    "top_coco[:10]\n",
    "sum_max = top_coco[\"Production\"].sum()\n",
    "top_coco[\"precent_of_pro\"] = top_coco[\"Production\"].map(lambda x:(x/sum_max)*100)\n",
    "top_coco[:20]\n",
    "\n",
    "\n"
   ]
  },
  {
   "cell_type": "code",
   "execution_count": 47,
   "id": "a5de58c7",
   "metadata": {},
   "outputs": [
    {
     "name": "stderr",
     "output_type": "stream",
     "text": [
      "C:\\Users\\Manis\\anaconda3\\lib\\site-packages\\seaborn\\_decorators.py:36: FutureWarning: Pass the following variables as keyword args: x, y. From version 0.12, the only valid positional argument will be `data`, and passing other arguments without an explicit keyword will result in an error or misinterpretation.\n",
      "  warnings.warn(\n"
     ]
    },
    {
     "data": {
      "image/png": "[encoded data removed]",
      "text/plain": [
       "<Figure size 720x360 with 1 Axes>"
      ]
     },
     "metadata": {
      "needs_background": "light"
     },
     "output_type": "display_data"
    }
   ],
   "source": [
    "plt.figure(figsize=(10,5))\n",
    "sns.barplot(\"Crop_Year\",\"Production\",data=coco)\n",
    "plt.xticks(rotation=45)\n",
    "plt.show()"
   ]
  },
  {
   "cell_type": "markdown",
   "id": "90f5808d",
   "metadata": {},
   "source": [
    "The production of coconut as crop_year wise --->>\n",
    "\n",
    "highest production in 2014\n",
    "\n",
    "lowest production in 2002"
   ]
  },
  {
   "cell_type": "code",
   "execution_count": 48,
   "id": "b42c15c0",
   "metadata": {},
   "outputs": [
    {
     "name": "stderr",
     "output_type": "stream",
     "text": [
      "C:\\Users\\Manis\\anaconda3\\lib\\site-packages\\seaborn\\_decorators.py:36: FutureWarning: Pass the following variables as keyword args: x, y. From version 0.12, the only valid positional argument will be `data`, and passing other arguments without an explicit keyword will result in an error or misinterpretation.\n",
      "  warnings.warn(\n"
     ]
    },
    {
     "data": {
      "image/png": "[encoded data removed]",
      "text/plain": [
       "<Figure size 1296x504 with 1 Axes>"
      ]
     },
     "metadata": {
      "needs_background": "light"
     },
     "output_type": "display_data"
    }
   ],
   "source": [
    "plt.figure(figsize=(18,7))\n",
    "sns.barplot(\"State_Name\",\"Production\",data=coco)\n",
    "plt.xticks(rotation=90)\n",
    "plt.show()"
   ]
  },
  {
   "cell_type": "markdown",
   "id": "f48570e0",
   "metadata": {},
   "source": [
    "Kerala was the highest producer of coconut"
   ]
  },
  {
   "cell_type": "code",
   "execution_count": 65,
   "id": "15384989",
   "metadata": {},
   "outputs": [
    {
     "name": "stderr",
     "output_type": "stream",
     "text": [
      "C:\\Users\\Manis\\anaconda3\\lib\\site-packages\\seaborn\\_decorators.py:36: FutureWarning: Pass the following variables as keyword args: x, y. From version 0.12, the only valid positional argument will be `data`, and passing other arguments without an explicit keyword will result in an error or misinterpretation.\n",
      "  warnings.warn(\n"
     ]
    },
    {
     "data": {
      "image/png": "[encoded data removed]",
      "text/plain": [
       "<Figure size 864x432 with 1 Axes>"
      ]
     },
     "metadata": {
      "needs_background": "light"
     },
     "output_type": "display_data"
    }
   ],
   "source": [
    "\n",
    "plt.figure(figsize=(12,6))\n",
    "sns.barplot(\"District_Name\",\"Production\",data=top_coco[:20])\n",
    "plt.xticks(rotation=90)\n",
    "plt.show()\n"
   ]
  },
  {
   "cell_type": "markdown",
   "id": "3611ce15",
   "metadata": {},
   "source": [
    "Highest production of coconut as District wise was Kozhikode"
   ]
  },
  {
   "cell_type": "code",
   "execution_count": 50,
   "id": "cd66aad0",
   "metadata": {},
   "outputs": [
    {
     "name": "stderr",
     "output_type": "stream",
     "text": [
      "C:\\Users\\Manis\\anaconda3\\lib\\site-packages\\seaborn\\_decorators.py:36: FutureWarning: Pass the following variables as keyword args: x, y. From version 0.12, the only valid positional argument will be `data`, and passing other arguments without an explicit keyword will result in an error or misinterpretation.\n",
      "  warnings.warn(\n"
     ]
    },
    {
     "data": {
      "text/plain": [
       "<seaborn.axisgrid.JointGrid at 0x22bf023e1c0>"
      ]
     },
     "execution_count": 50,
     "metadata": {},
     "output_type": "execute_result"
    },
    {
     "data": {
      "image/png": "[encoded data removed]",
      "text/plain": [
       "<Figure size 432x432 with 3 Axes>"
      ]
     },
     "metadata": {
      "needs_background": "light"
     },
     "output_type": "display_data"
    }
   ],
   "source": [
    "sns.jointplot(\"Area\",\"Production\",data=coco,kind=\"reg\")"
   ]
  },
  {
   "cell_type": "markdown",
   "id": "459eb74d",
   "metadata": {},
   "source": [
    "We we check the graph we found there is lesser correaltion, because as the area increase the production of some area are still zero"
   ]
  },
  {
   "cell_type": "markdown",
   "id": "9088a736",
   "metadata": {},
   "source": [
    "# Sugarcane"
   ]
  },
  {
   "cell_type": "code",
   "execution_count": 51,
   "id": "bef1fe98",
   "metadata": {},
   "outputs": [
    {
     "data": {
      "text/html": [
       "<div>\n",
       "<style scoped>\n",
       "    .dataframe tbody tr th:only-of-type {\n",
       "        vertical-align: middle;\n",
       "    }\n",
       "\n",
       "    .dataframe tbody tr th {\n",
       "        vertical-align: top;\n",
       "    }\n",
       "\n",
       "    .dataframe thead th {\n",
       "        text-align: right;\n",
       "    }\n",
       "</style>\n",
       "<table border=\"1\" class=\"dataframe\">\n",
       "  <thead>\n",
       "    <tr style=\"text-align: right;\">\n",
       "      <th></th>\n",
       "      <th>State_Name</th>\n",
       "      <th>District_Name</th>\n",
       "      <th>Crop_Year</th>\n",
       "      <th>Season</th>\n",
       "      <th>Crop</th>\n",
       "      <th>Area</th>\n",
       "      <th>Production</th>\n",
       "      <th>Zones</th>\n",
       "      <th>cat_crop</th>\n",
       "    </tr>\n",
       "  </thead>\n",
       "  <tbody>\n",
       "    <tr>\n",
       "      <th>7</th>\n",
       "      <td>Andaman and Nicobar Islands</td>\n",
       "      <td>NICOBARS</td>\n",
       "      <td>2000</td>\n",
       "      <td>Whole Year</td>\n",
       "      <td>Sugarcane</td>\n",
       "      <td>1.0</td>\n",
       "      <td>2.00</td>\n",
       "      <td>Union Terr</td>\n",
       "      <td>Commercial</td>\n",
       "    </tr>\n",
       "    <tr>\n",
       "      <th>16</th>\n",
       "      <td>Andaman and Nicobar Islands</td>\n",
       "      <td>NICOBARS</td>\n",
       "      <td>2001</td>\n",
       "      <td>Whole Year</td>\n",
       "      <td>Sugarcane</td>\n",
       "      <td>1.0</td>\n",
       "      <td>1.00</td>\n",
       "      <td>Union Terr</td>\n",
       "      <td>Commercial</td>\n",
       "    </tr>\n",
       "    <tr>\n",
       "      <th>26</th>\n",
       "      <td>Andaman and Nicobar Islands</td>\n",
       "      <td>NICOBARS</td>\n",
       "      <td>2002</td>\n",
       "      <td>Whole Year</td>\n",
       "      <td>Sugarcane</td>\n",
       "      <td>5.0</td>\n",
       "      <td>40.00</td>\n",
       "      <td>Union Terr</td>\n",
       "      <td>Commercial</td>\n",
       "    </tr>\n",
       "    <tr>\n",
       "      <th>60</th>\n",
       "      <td>Andaman and Nicobar Islands</td>\n",
       "      <td>NICOBARS</td>\n",
       "      <td>2006</td>\n",
       "      <td>Whole Year</td>\n",
       "      <td>Sugarcane</td>\n",
       "      <td>0.2</td>\n",
       "      <td>0.50</td>\n",
       "      <td>Union Terr</td>\n",
       "      <td>Commercial</td>\n",
       "    </tr>\n",
       "    <tr>\n",
       "      <th>65</th>\n",
       "      <td>Andaman and Nicobar Islands</td>\n",
       "      <td>NICOBARS</td>\n",
       "      <td>2010</td>\n",
       "      <td>Autumn</td>\n",
       "      <td>Sugarcane</td>\n",
       "      <td>13.4</td>\n",
       "      <td>41.75</td>\n",
       "      <td>Union Terr</td>\n",
       "      <td>Commercial</td>\n",
       "    </tr>\n",
       "    <tr>\n",
       "      <th>...</th>\n",
       "      <td>...</td>\n",
       "      <td>...</td>\n",
       "      <td>...</td>\n",
       "      <td>...</td>\n",
       "      <td>...</td>\n",
       "      <td>...</td>\n",
       "      <td>...</td>\n",
       "      <td>...</td>\n",
       "      <td>...</td>\n",
       "    </tr>\n",
       "    <tr>\n",
       "      <th>245953</th>\n",
       "      <td>West Bengal</td>\n",
       "      <td>PURULIA</td>\n",
       "      <td>2010</td>\n",
       "      <td>Whole Year</td>\n",
       "      <td>Sugarcane</td>\n",
       "      <td>303.0</td>\n",
       "      <td>11541.00</td>\n",
       "      <td>East Zone</td>\n",
       "      <td>Commercial</td>\n",
       "    </tr>\n",
       "    <tr>\n",
       "      <th>245984</th>\n",
       "      <td>West Bengal</td>\n",
       "      <td>PURULIA</td>\n",
       "      <td>2011</td>\n",
       "      <td>Whole Year</td>\n",
       "      <td>Sugarcane</td>\n",
       "      <td>303.0</td>\n",
       "      <td>20264.00</td>\n",
       "      <td>East Zone</td>\n",
       "      <td>Commercial</td>\n",
       "    </tr>\n",
       "    <tr>\n",
       "      <th>246016</th>\n",
       "      <td>West Bengal</td>\n",
       "      <td>PURULIA</td>\n",
       "      <td>2012</td>\n",
       "      <td>Whole Year</td>\n",
       "      <td>Sugarcane</td>\n",
       "      <td>314.0</td>\n",
       "      <td>11199.00</td>\n",
       "      <td>East Zone</td>\n",
       "      <td>Commercial</td>\n",
       "    </tr>\n",
       "    <tr>\n",
       "      <th>246051</th>\n",
       "      <td>West Bengal</td>\n",
       "      <td>PURULIA</td>\n",
       "      <td>2013</td>\n",
       "      <td>Whole Year</td>\n",
       "      <td>Sugarcane</td>\n",
       "      <td>161.0</td>\n",
       "      <td>7948.00</td>\n",
       "      <td>East Zone</td>\n",
       "      <td>Commercial</td>\n",
       "    </tr>\n",
       "    <tr>\n",
       "      <th>246088</th>\n",
       "      <td>West Bengal</td>\n",
       "      <td>PURULIA</td>\n",
       "      <td>2014</td>\n",
       "      <td>Whole Year</td>\n",
       "      <td>Sugarcane</td>\n",
       "      <td>324.0</td>\n",
       "      <td>16250.00</td>\n",
       "      <td>East Zone</td>\n",
       "      <td>Commercial</td>\n",
       "    </tr>\n",
       "  </tbody>\n",
       "</table>\n",
       "<p>7827 rows × 9 columns</p>\n",
       "</div>"
      ],
      "text/plain": [
       "                         State_Name District_Name  Crop_Year       Season  \\\n",
       "7       Andaman and Nicobar Islands      NICOBARS       2000  Whole Year    \n",
       "16      Andaman and Nicobar Islands      NICOBARS       2001  Whole Year    \n",
       "26      Andaman and Nicobar Islands      NICOBARS       2002  Whole Year    \n",
       "60      Andaman and Nicobar Islands      NICOBARS       2006  Whole Year    \n",
       "65      Andaman and Nicobar Islands      NICOBARS       2010  Autumn        \n",
       "...                             ...           ...        ...          ...   \n",
       "245953                  West Bengal       PURULIA       2010  Whole Year    \n",
       "245984                  West Bengal       PURULIA       2011  Whole Year    \n",
       "246016                  West Bengal       PURULIA       2012  Whole Year    \n",
       "246051                  West Bengal       PURULIA       2013  Whole Year    \n",
       "246088                  West Bengal       PURULIA       2014  Whole Year    \n",
       "\n",
       "             Crop   Area  Production       Zones    cat_crop  \n",
       "7       Sugarcane    1.0        2.00  Union Terr  Commercial  \n",
       "16      Sugarcane    1.0        1.00  Union Terr  Commercial  \n",
       "26      Sugarcane    5.0       40.00  Union Terr  Commercial  \n",
       "60      Sugarcane    0.2        0.50  Union Terr  Commercial  \n",
       "65      Sugarcane   13.4       41.75  Union Terr  Commercial  \n",
       "...           ...    ...         ...         ...         ...  \n",
       "245953  Sugarcane  303.0    11541.00   East Zone  Commercial  \n",
       "245984  Sugarcane  303.0    20264.00   East Zone  Commercial  \n",
       "246016  Sugarcane  314.0    11199.00   East Zone  Commercial  \n",
       "246051  Sugarcane  161.0     7948.00   East Zone  Commercial  \n",
       "246088  Sugarcane  324.0    16250.00   East Zone  Commercial  \n",
       "\n",
       "[7827 rows x 9 columns]"
      ]
     },
     "execution_count": 51,
     "metadata": {},
     "output_type": "execute_result"
    }
   ],
   "source": [
    "sug=df[df[\"Crop\"]==\"Sugarcane\"]\n",
    "sug"
   ]
  },
  {
   "cell_type": "code",
   "execution_count": 52,
   "id": "ce5a5b45",
   "metadata": {},
   "outputs": [
    {
     "data": {
      "text/plain": [
       "<AxesSubplot:xlabel='Season', ylabel='Production'>"
      ]
     },
     "execution_count": 52,
     "metadata": {},
     "output_type": "execute_result"
    },
    {
     "data": {
      "image/png": "[encoded data removed]",
      "text/plain": [
       "<Figure size 720x360 with 1 Axes>"
      ]
     },
     "metadata": {
      "needs_background": "light"
     },
     "output_type": "display_data"
    }
   ],
   "source": [
    "plt.figure(figsize=(10,5))\n",
    "sns.barplot(x='Season',y='Production',data=sug)"
   ]
  },
  {
   "cell_type": "markdown",
   "id": "24ba8652",
   "metadata": {},
   "source": [
    "From the above graph we can see that the sugurcane is kharif crop"
   ]
  },
  {
   "cell_type": "code",
   "execution_count": 66,
   "id": "8c818293",
   "metadata": {},
   "outputs": [
    {
     "data": {
      "text/html": [
       "<div>\n",
       "<style scoped>\n",
       "    .dataframe tbody tr th:only-of-type {\n",
       "        vertical-align: middle;\n",
       "    }\n",
       "\n",
       "    .dataframe tbody tr th {\n",
       "        vertical-align: top;\n",
       "    }\n",
       "\n",
       "    .dataframe thead th {\n",
       "        text-align: right;\n",
       "    }\n",
       "</style>\n",
       "<table border=\"1\" class=\"dataframe\">\n",
       "  <thead>\n",
       "    <tr style=\"text-align: right;\">\n",
       "      <th></th>\n",
       "      <th>District_Name</th>\n",
       "      <th>Production</th>\n",
       "      <th>precent_of_pro</th>\n",
       "    </tr>\n",
       "  </thead>\n",
       "  <tbody>\n",
       "    <tr>\n",
       "      <th>360</th>\n",
       "      <td>MUZAFFARNAGAR</td>\n",
       "      <td>258698795.0</td>\n",
       "      <td>4.673296</td>\n",
       "    </tr>\n",
       "    <tr>\n",
       "      <th>81</th>\n",
       "      <td>BIJNOR</td>\n",
       "      <td>230907185.0</td>\n",
       "      <td>4.171251</td>\n",
       "    </tr>\n",
       "    <tr>\n",
       "      <th>283</th>\n",
       "      <td>KHERI</td>\n",
       "      <td>224383685.0</td>\n",
       "      <td>4.053407</td>\n",
       "    </tr>\n",
       "    <tr>\n",
       "      <th>63</th>\n",
       "      <td>BELGAUM</td>\n",
       "      <td>198207649.0</td>\n",
       "      <td>3.580546</td>\n",
       "    </tr>\n",
       "    <tr>\n",
       "      <th>294</th>\n",
       "      <td>KOLHAPUR</td>\n",
       "      <td>157210426.0</td>\n",
       "      <td>2.839947</td>\n",
       "    </tr>\n",
       "    <tr>\n",
       "      <th>348</th>\n",
       "      <td>MEERUT</td>\n",
       "      <td>151829820.0</td>\n",
       "      <td>2.742748</td>\n",
       "    </tr>\n",
       "    <tr>\n",
       "      <th>447</th>\n",
       "      <td>SAHARANPUR</td>\n",
       "      <td>143273838.0</td>\n",
       "      <td>2.588188</td>\n",
       "    </tr>\n",
       "    <tr>\n",
       "      <th>493</th>\n",
       "      <td>SOLAPUR</td>\n",
       "      <td>139645167.0</td>\n",
       "      <td>2.522637</td>\n",
       "    </tr>\n",
       "    <tr>\n",
       "      <th>555</th>\n",
       "      <td>VILLUPURAM</td>\n",
       "      <td>132702030.0</td>\n",
       "      <td>2.397212</td>\n",
       "    </tr>\n",
       "    <tr>\n",
       "      <th>418</th>\n",
       "      <td>PUNE</td>\n",
       "      <td>127473301.0</td>\n",
       "      <td>2.302757</td>\n",
       "    </tr>\n",
       "    <tr>\n",
       "      <th>510</th>\n",
       "      <td>SURAT</td>\n",
       "      <td>126331300.0</td>\n",
       "      <td>2.282127</td>\n",
       "    </tr>\n",
       "    <tr>\n",
       "      <th>488</th>\n",
       "      <td>SITAPUR</td>\n",
       "      <td>116361442.0</td>\n",
       "      <td>2.102026</td>\n",
       "    </tr>\n",
       "    <tr>\n",
       "      <th>6</th>\n",
       "      <td>AHMEDNAGAR</td>\n",
       "      <td>100789214.0</td>\n",
       "      <td>1.820719</td>\n",
       "    </tr>\n",
       "    <tr>\n",
       "      <th>33</th>\n",
       "      <td>BAGALKOT</td>\n",
       "      <td>95190087.0</td>\n",
       "      <td>1.719573</td>\n",
       "    </tr>\n",
       "    <tr>\n",
       "      <th>116</th>\n",
       "      <td>CUDDALORE</td>\n",
       "      <td>90023843.0</td>\n",
       "      <td>1.626247</td>\n",
       "    </tr>\n",
       "    <tr>\n",
       "      <th>159</th>\n",
       "      <td>ERODE</td>\n",
       "      <td>85686869.0</td>\n",
       "      <td>1.547901</td>\n",
       "    </tr>\n",
       "    <tr>\n",
       "      <th>455</th>\n",
       "      <td>SANGLI</td>\n",
       "      <td>84479400.0</td>\n",
       "      <td>1.526089</td>\n",
       "    </tr>\n",
       "    <tr>\n",
       "      <th>34</th>\n",
       "      <td>BAGHPAT</td>\n",
       "      <td>84431152.0</td>\n",
       "      <td>1.525217</td>\n",
       "    </tr>\n",
       "    <tr>\n",
       "      <th>53</th>\n",
       "      <td>BAREILLY</td>\n",
       "      <td>83192846.0</td>\n",
       "      <td>1.502847</td>\n",
       "    </tr>\n",
       "    <tr>\n",
       "      <th>21</th>\n",
       "      <td>AMROHA</td>\n",
       "      <td>82025873.0</td>\n",
       "      <td>1.481766</td>\n",
       "    </tr>\n",
       "  </tbody>\n",
       "</table>\n",
       "</div>"
      ],
      "text/plain": [
       "     District_Name   Production  precent_of_pro\n",
       "360  MUZAFFARNAGAR  258698795.0        4.673296\n",
       "81          BIJNOR  230907185.0        4.171251\n",
       "283          KHERI  224383685.0        4.053407\n",
       "63         BELGAUM  198207649.0        3.580546\n",
       "294       KOLHAPUR  157210426.0        2.839947\n",
       "348         MEERUT  151829820.0        2.742748\n",
       "447     SAHARANPUR  143273838.0        2.588188\n",
       "493        SOLAPUR  139645167.0        2.522637\n",
       "555     VILLUPURAM  132702030.0        2.397212\n",
       "418           PUNE  127473301.0        2.302757\n",
       "510          SURAT  126331300.0        2.282127\n",
       "488        SITAPUR  116361442.0        2.102026\n",
       "6       AHMEDNAGAR  100789214.0        1.820719\n",
       "33        BAGALKOT   95190087.0        1.719573\n",
       "116      CUDDALORE   90023843.0        1.626247\n",
       "159          ERODE   85686869.0        1.547901\n",
       "455         SANGLI   84479400.0        1.526089\n",
       "34         BAGHPAT   84431152.0        1.525217\n",
       "53        BAREILLY   83192846.0        1.502847\n",
       "21          AMROHA   82025873.0        1.481766"
      ]
     },
     "execution_count": 66,
     "metadata": {},
     "output_type": "execute_result"
    }
   ],
   "source": [
    "top_sug = sug.groupby(\"District_Name\")[\"Production\"].sum().reset_index().sort_values(\n",
    "    by='Production',ascending=False)\n",
    "top_sug[:10]\n",
    "sum_max = top_sug[\"Production\"].sum()\n",
    "top_sug[\"precent_of_pro\"] = top_sug[\"Production\"].map(lambda x:(x/sum_max)*100)\n",
    "top_sug[:20]\n"
   ]
  },
  {
   "cell_type": "code",
   "execution_count": 67,
   "id": "90b11224",
   "metadata": {},
   "outputs": [
    {
     "name": "stderr",
     "output_type": "stream",
     "text": [
      "C:\\Users\\Manis\\anaconda3\\lib\\site-packages\\seaborn\\_decorators.py:36: FutureWarning: Pass the following variables as keyword args: x, y. From version 0.12, the only valid positional argument will be `data`, and passing other arguments without an explicit keyword will result in an error or misinterpretation.\n",
      "  warnings.warn(\n"
     ]
    },
    {
     "data": {
      "image/png": "[encoded data removed]",
      "text/plain": [
       "<Figure size 864x432 with 1 Axes>"
      ]
     },
     "metadata": {
      "needs_background": "light"
     },
     "output_type": "display_data"
    }
   ],
   "source": [
    "plt.figure(figsize=(12,6))\n",
    "sns.barplot(\"District_Name\",\"Production\",data=top_sug[:20])\n",
    "plt.xticks(rotation=90)\n",
    "plt.show()"
   ]
  },
  {
   "cell_type": "code",
   "execution_count": 53,
   "id": "0e470029",
   "metadata": {},
   "outputs": [
    {
     "name": "stderr",
     "output_type": "stream",
     "text": [
      "C:\\Users\\Manis\\anaconda3\\lib\\site-packages\\seaborn\\_decorators.py:36: FutureWarning: Pass the following variables as keyword args: x, y. From version 0.12, the only valid positional argument will be `data`, and passing other arguments without an explicit keyword will result in an error or misinterpretation.\n",
      "  warnings.warn(\n"
     ]
    },
    {
     "data": {
      "image/png": "[encoded data removed]",
      "text/plain": [
       "<Figure size 720x360 with 1 Axes>"
      ]
     },
     "metadata": {
      "needs_background": "light"
     },
     "output_type": "display_data"
    }
   ],
   "source": [
    "plt.figure(figsize=(10,5))\n",
    "sns.barplot(\"Crop_Year\",\"Production\",data=sug)\n",
    "plt.xticks(rotation=45)\n",
    "plt.show()"
   ]
  },
  {
   "cell_type": "markdown",
   "id": "4407ed17",
   "metadata": {},
   "source": [
    "In 1997 the sugarcane is on its peak"
   ]
  },
  {
   "cell_type": "code",
   "execution_count": 54,
   "id": "7a73d595",
   "metadata": {},
   "outputs": [
    {
     "name": "stderr",
     "output_type": "stream",
     "text": [
      "C:\\Users\\Manis\\anaconda3\\lib\\site-packages\\seaborn\\_decorators.py:36: FutureWarning: Pass the following variables as keyword args: x, y. From version 0.12, the only valid positional argument will be `data`, and passing other arguments without an explicit keyword will result in an error or misinterpretation.\n",
      "  warnings.warn(\n"
     ]
    },
    {
     "data": {
      "image/png": "[encoded data removed]",
      "text/plain": [
       "<Figure size 1080x360 with 1 Axes>"
      ]
     },
     "metadata": {
      "needs_background": "light"
     },
     "output_type": "display_data"
    }
   ],
   "source": [
    "plt.figure(figsize=(15,5))\n",
    "sns.barplot(\"State_Name\",\"Production\",data=sug)\n",
    "plt.xticks(rotation=90)\n",
    "plt.show()"
   ]
  },
  {
   "cell_type": "markdown",
   "id": "ba7417c3",
   "metadata": {},
   "source": [
    "As we can see that again the Maharashtra growing highest number of sugarcane"
   ]
  },
  {
   "cell_type": "code",
   "execution_count": 55,
   "id": "593ace53",
   "metadata": {},
   "outputs": [
    {
     "name": "stderr",
     "output_type": "stream",
     "text": [
      "C:\\Users\\Manis\\anaconda3\\lib\\site-packages\\seaborn\\_decorators.py:36: FutureWarning: Pass the following variables as keyword args: x, y. From version 0.12, the only valid positional argument will be `data`, and passing other arguments without an explicit keyword will result in an error or misinterpretation.\n",
      "  warnings.warn(\n"
     ]
    },
    {
     "data": {
      "text/plain": [
       "<seaborn.axisgrid.JointGrid at 0x22bf44e1250>"
      ]
     },
     "execution_count": 55,
     "metadata": {},
     "output_type": "execute_result"
    },
    {
     "data": {
      "image/png": "[encoded data removed]",
      "text/plain": [
       "<Figure size 432x432 with 3 Axes>"
      ]
     },
     "metadata": {
      "needs_background": "light"
     },
     "output_type": "display_data"
    }
   ],
   "source": [
    "sns.jointplot(\"Area\",\"Production\",data=sug,kind='reg')"
   ]
  },
  {
   "cell_type": "markdown",
   "id": "be7a5889",
   "metadata": {},
   "source": [
    "It is correlated but not much "
   ]
  },
  {
   "cell_type": "markdown",
   "id": "ea217f1c",
   "metadata": {},
   "source": [
    "# Results from EDA"
   ]
  },
  {
   "cell_type": "markdown",
   "id": "0d780cc5",
   "metadata": {},
   "source": [
    "                   crop production\n",
    "          \n",
    "In this dataset there are 7 columns and 246091 rows.\n",
    "\n",
    "This dataset also contain 3730 missing values in production column which means it is 1% of dataset so we have droped it.\n",
    "\n",
    "There is no correaltion in the dataset.\n",
    "\n",
    "There are lots of state_name given in the dataset and when we check which state has  highest we find kerala.\n",
    "\n",
    "So we have lost of state we have categorised that state to zone wise - 'Union Terr' 'South Zone' 'NE Zone' 'East Zone' 'North Zone' 'Central Zone' 'West Zone'.\n",
    "\n",
    "So we have lots of crops name also we have also actegorised it to cat_crop - Nuts' 'Pulses' 'Cereal' 'Fruits' None 'spices' 'Commercial' 'Vegetables''oilseeds' 'fibres' 'Beans\n",
    "\n",
    "\n",
    "\n",
    "highest production year are 2011,2013,2014.\n",
    "\n",
    "Uttar Pradesh  producing more crop categories than any other Indian state.\n",
    "\n",
    "\n",
    "It shows that rice needs winter to grow.\n",
    "\n",
    "District wise its BARDHAMAN, MEDINIPUR WEST and WEST GODAVARI which contributes to total rice production.\n",
    "\n",
    "\n",
    "There is highest production in 2014 for Rice.\n",
    "\n",
    "Statewise Punjab dominates in Rice production.\n",
    "\n",
    "\n",
    "\n",
    "\n",
    "When we check the frequency of the crop it shows rice is grown heavily in India\n",
    "\n",
    "The production of coconut is accurs whole year, highest production year is 2014 and lowest is 2002, kerala has the highest production of coconuts , as per district wise kozhikode has highest production.\n",
    "\n",
    "We we check the graph we found there is lesser correaltion, because as the area increase the production  still zero.\n",
    "\n",
    "\n",
    "sugarcane is kharif crop in 1997 the production of  sugarcane is on its peak ,Maharashtra is the  highest producer of sugarcane.\n",
    "\n",
    "\n",
    "\n"
   ]
  },
  {
   "cell_type": "markdown",
   "id": "899f6e09",
   "metadata": {},
   "source": [
    "# Conclusion"
   ]
  },
  {
   "cell_type": "markdown",
   "id": "73cfb49c",
   "metadata": {},
   "source": [
    "Here i have come to end of the project on the topic crop production \n",
    "\n",
    "I would like to share my experience while doing this project i learnt  many new things  about the crop production and its was a wonderfull learning experience for me while working on this projects \n",
    "\n",
    "This project develops my thinking skills"
   ]
  },
  {
   "cell_type": "code",
   "execution_count": null,
   "id": "19e101c3",
   "metadata": {},
   "outputs": [],
   "source": []
  },
  {
   "cell_type": "code",
   "execution_count": null,
   "id": "21e73ff1",
   "metadata": {},
   "outputs": [],
   "source": []
  }
 ],
 "metadata": {
  "kernelspec": {
   "display_name": "Python 3 (ipykernel)",
   "language": "python",
   "name": "python3"
  },
  "language_info": {
   "codemirror_mode": {
    "name": "ipython",
    "version": 3
   },
   "file_extension": ".py",
   "mimetype": "text/x-python",
   "name": "python",
   "nbconvert_exporter": "python",
   "pygments_lexer": "ipython3",
   "version": "3.9.7"
  }
 },
 "nbformat": 4,
 "nbformat_minor": 5
}
